{
 "cells": [
  {
   "cell_type": "markdown",
   "metadata": {},
   "source": [
    "# Things you can do with a Figure object"
   ]
  },
  {
   "cell_type": "code",
   "execution_count": null,
   "metadata": {
    "ExecuteTime": {
     "end_time": "2017-11-12T12:11:54.642737",
     "start_time": "2017-11-12T12:11:53.056468"
    },
    "collapsed": true,
    "slideshow": {
     "slide_type": "-"
    }
   },
   "outputs": [],
   "source": [
    "# Import the library\n",
    "import plotly as py"
   ]
  },
  {
   "cell_type": "code",
   "execution_count": null,
   "metadata": {
    "ExecuteTime": {
     "end_time": "2017-11-12T12:12:07.576419",
     "start_time": "2017-11-12T12:12:07.573724"
    },
    "collapsed": true
   },
   "outputs": [],
   "source": [
    "# Building blocks of Plotly plots\n",
    "import plotly.graph_objs as go"
   ]
  },
  {
   "cell_type": "code",
   "execution_count": null,
   "metadata": {
    "ExecuteTime": {
     "end_time": "2017-11-12T12:12:00.250278",
     "start_time": "2017-11-12T12:12:00.244853"
    }
   },
   "outputs": [],
   "source": [
    "# and enable the offline mode in the notebook (not needed in Jupyter Lab)\n",
    "py.offline.init_notebook_mode(connected=True)"
   ]
  },
  {
   "cell_type": "code",
   "execution_count": null,
   "metadata": {
    "collapsed": true
   },
   "outputs": [],
   "source": [
    "# Constructing a figure\n",
    "import numpy as np\n",
    "x = np.linspace(0, 2*np.pi)\n",
    "\n",
    "# Traces\n",
    "trace0 = dict(\n",
    "    type='scatter', \n",
    "    x=x, \n",
    "    y=np.sin(x), \n",
    "    name='sin(x)'\n",
    ")\n",
    "trace1 = dict(\n",
    "    type='scatter', \n",
    "    x=x, \n",
    "    y=np.cos(x), \n",
    "    name='cos(x)'\n",
    ")\n",
    "\n",
    "# Layout\n",
    "layout = dict(\n",
    "    title='SIN and COS functions',\n",
    "    xaxis=dict(title='x'),\n",
    "    yaxis=dict(title='f(x)')\n",
    ")\n",
    "\n",
    "# Figure\n",
    "fig = go.Figure(data=[trace0, trace1], layout=layout) "
   ]
  },
  {
   "cell_type": "markdown",
   "metadata": {},
   "source": [
    "#### Display the result within the notebook"
   ]
  },
  {
   "cell_type": "code",
   "execution_count": null,
   "metadata": {},
   "outputs": [],
   "source": [
    "py.offline.iplot(fig)"
   ]
  },
  {
   "cell_type": "code",
   "execution_count": null,
   "metadata": {},
   "outputs": [],
   "source": [
    "# Remove Plotly links for a cleaner layout\n",
    "config = dict(\n",
    "    modeBarButtonsToRemove=['sendDataToCloud'],\n",
    "    displaylogo=False,\n",
    ")\n",
    "        \n",
    "py.offline.iplot(fig, show_link=False, config=config)"
   ]
  },
  {
   "cell_type": "markdown",
   "metadata": {},
   "source": [
    "#### Create a stand-alone html file "
   ]
  },
  {
   "cell_type": "code",
   "execution_count": null,
   "metadata": {},
   "outputs": [],
   "source": [
    "# This includes by default all necessary code (including Plotly.js) to render the plot\n",
    "py.offline.plot(fig, filename='sin_cos.html')"
   ]
  },
  {
   "cell_type": "markdown",
   "metadata": {},
   "source": [
    "#### Create just a `<div>` element with the plot to embed in your web page"
   ]
  },
  {
   "cell_type": "code",
   "execution_count": null,
   "metadata": {},
   "outputs": [],
   "source": [
    "div_str = py.offline.plot(\n",
    "    fig, \n",
    "    output_type='div', \n",
    "    include_plotlyjs=False, \n",
    "    show_link=False,\n",
    "    config=config,\n",
    ")"
   ]
  },
  {
   "cell_type": "code",
   "execution_count": null,
   "metadata": {},
   "outputs": [],
   "source": [
    "# Then you can use the resulting string in your own HTML code:\n",
    "html_str = '''<!DOCTYPE html>\n",
    "                <html>\n",
    "                \n",
    "                <head>\n",
    "                  <script src='https://cdn.plot.ly/plotly-latest.min.js'></script>\n",
    "                </head>\n",
    "                \n",
    "                \n",
    "                <body>\n",
    "                  <h1>Simple Dashboard</h1>\n",
    "                  <p>The following plot is static and interactive at the same time ;)</p>\n",
    "                \n",
    "                  {}\n",
    "                \n",
    "                </body>\n",
    "                \n",
    "                </html>\n",
    "                '''.format(div_str)\n",
    "\n",
    "\n",
    "# The final string can be saved in a file\n",
    "with open('simple_dashboard.html', 'w') as f:\n",
    "    f.write(html_str)"
   ]
  },
  {
   "cell_type": "markdown",
   "metadata": {},
   "source": [
    "#### Share it via the Plotly cloud (requires a free Plotly account)"
   ]
  },
  {
   "cell_type": "markdown",
   "metadata": {},
   "source": [
    "A Plotly account is required (possible for free) and set credentials ([API key](https://plot.ly/settings/api)) as explained [here](https://plot.ly/python/getting-started/)."
   ]
  },
  {
   "cell_type": "code",
   "execution_count": null,
   "metadata": {},
   "outputs": [],
   "source": [
    "import os\n",
    "PLOTLY_API_KEY = os.environ.get('PLOTLY_API_KEY')\n",
    "py.tools.set_credentials_file(username='jmb.jesus', api_key=PLOTLY_API_KEY)"
   ]
  },
  {
   "cell_type": "markdown",
   "metadata": {},
   "source": [
    "Where `PLOTLY_API_KEY` is an environment variable where I store the API key provided by Plotly."
   ]
  },
  {
   "cell_type": "code",
   "execution_count": null,
   "metadata": {},
   "outputs": [],
   "source": [
    "# Then, this single command will send the plot to Plotly cloud\n",
    "py.plotly.plot(fig, filename='sin_cos', sharing='public')"
   ]
  },
  {
   "cell_type": "markdown",
   "metadata": {},
   "source": [
    "#### Export it as static image (requires a free Plotly account)"
   ]
  },
  {
   "cell_type": "markdown",
   "metadata": {},
   "source": [
    "Although it is possible to download a static image manually by pressing the camera icon on any Plotly plot, you can do that also programatically with:"
   ]
  },
  {
   "cell_type": "code",
   "execution_count": null,
   "metadata": {},
   "outputs": [],
   "source": [
    "py.plotly.image.save_as(fig, filename='sin_cos.png')"
   ]
  },
  {
   "cell_type": "markdown",
   "metadata": {},
   "source": [
    "## Exercise"
   ]
  },
  {
   "cell_type": "markdown",
   "metadata": {},
   "source": [
    "Take any of the Plotly figures built so far (or any one of your choice), embed it in your custom HTML document and host it in [GitHub pages](https://pages.github.com/) following the steps defined in the [slides](https://slides.com/chumo/plotly/)."
   ]
  },
  {
   "cell_type": "code",
   "execution_count": null,
   "metadata": {},
   "outputs": [],
   "source": []
  }
 ],
 "metadata": {
  "kernelspec": {
   "display_name": "Python 3",
   "language": "python",
   "name": "python3"
  },
  "language_info": {
   "codemirror_mode": {
    "name": "ipython",
    "version": 3
   },
   "file_extension": ".py",
   "mimetype": "text/x-python",
   "name": "python",
   "nbconvert_exporter": "python",
   "pygments_lexer": "ipython3",
   "version": "3.7.1"
  }
 },
 "nbformat": 4,
 "nbformat_minor": 2
}
