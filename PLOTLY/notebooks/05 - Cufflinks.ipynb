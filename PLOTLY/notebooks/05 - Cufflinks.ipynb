{
 "cells": [
  {
   "cell_type": "markdown",
   "metadata": {},
   "source": [
    "# Cufflinks"
   ]
  },
  {
   "cell_type": "code",
   "execution_count": null,
   "metadata": {
    "ExecuteTime": {
     "end_time": "2017-11-14T21:46:47.258782",
     "start_time": "2017-11-14T21:46:45.284009"
    }
   },
   "outputs": [],
   "source": [
    "import cufflinks as cf\n",
    "\n",
    "# Configure it to work offline:\n",
    "cf.go_offline(connected=True)"
   ]
  },
  {
   "cell_type": "code",
   "execution_count": null,
   "metadata": {
    "ExecuteTime": {
     "end_time": "2017-11-14T21:49:48.985151",
     "start_time": "2017-11-14T21:49:48.975186"
    }
   },
   "outputs": [],
   "source": [
    "# A random dataframe as example\n",
    "import pandas as pd\n",
    "\n",
    "df = pd.DataFrame({\n",
    "    'Column A':[2,5,3,4,1],\n",
    "    'Column B':[6,2,4,1,8],\n",
    "})"
   ]
  },
  {
   "cell_type": "code",
   "execution_count": null,
   "metadata": {
    "ExecuteTime": {
     "end_time": "2017-11-14T22:21:39.537653",
     "start_time": "2017-11-14T22:21:39.516860"
    }
   },
   "outputs": [],
   "source": [
    "# Set layout assets individually\n",
    "df.iplot(\n",
    "    kind='bar', \n",
    "    title='An example', \n",
    "    xTitle='index', \n",
    "    yTitle='value',\n",
    ")"
   ]
  },
  {
   "cell_type": "code",
   "execution_count": null,
   "metadata": {
    "ExecuteTime": {
     "end_time": "2017-11-14T22:25:21.233350",
     "start_time": "2017-11-14T22:25:21.204732"
    }
   },
   "outputs": [],
   "source": [
    "# Set layout as a whole:\n",
    "layout = dict(\n",
    "    title='An example',\n",
    "    xaxis=dict(title='index'),\n",
    "    yaxis=dict(title='value'),\n",
    "    width=700,\n",
    "    height=500,\n",
    ")\n",
    "\n",
    "df.iplot(kind='bar', layout=layout)"
   ]
  },
  {
   "cell_type": "code",
   "execution_count": null,
   "metadata": {
    "ExecuteTime": {
     "end_time": "2017-11-14T21:55:56.124747",
     "start_time": "2017-11-14T21:55:56.102620"
    }
   },
   "outputs": [],
   "source": [
    "# Use asFigure=True to return a Plotly figure...\n",
    "fig = df.iplot(\n",
    "    kind='bar',\n",
    "    layout=layout,\n",
    "    asFigure=True,\n",
    ")\n",
    "\n",
    "# ... that can be manipulated as such, for example:\n",
    "import plotly as py\n",
    "div_str = py.offline.plot(\n",
    "    fig,\n",
    "    output_type='div',\n",
    "    include_plotlyjs=False,\n",
    ")"
   ]
  }
 ],
 "metadata": {
  "kernelspec": {
   "display_name": "Python 3",
   "language": "python",
   "name": "python3"
  },
  "language_info": {
   "codemirror_mode": {
    "name": "ipython",
    "version": 3
   },
   "file_extension": ".py",
   "mimetype": "text/x-python",
   "name": "python",
   "nbconvert_exporter": "python",
   "pygments_lexer": "ipython3",
   "version": "3.7.1"
  }
 },
 "nbformat": 4,
 "nbformat_minor": 2
}
