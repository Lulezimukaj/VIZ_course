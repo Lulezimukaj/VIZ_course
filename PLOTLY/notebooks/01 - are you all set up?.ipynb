{
 "cells": [
  {
   "cell_type": "code",
   "execution_count": null,
   "metadata": {},
   "outputs": [],
   "source": [
    "import plotly.graph_objects as go"
   ]
  },
  {
   "cell_type": "code",
   "execution_count": null,
   "metadata": {},
   "outputs": [],
   "source": [
    "fig = (\n",
    "    # Create an empty plotly Figure\n",
    "    go.Figure()\n",
    "    # Add a scatter trace to it\n",
    "    .add_scatter(\n",
    "        x=[1,2,3], \n",
    "        y=[10,5,14],\n",
    "    )\n",
    ")\n",
    "\n",
    "# Show the figure (in the notebook the .show() method is not needed)\n",
    "fig.show()"
   ]
  },
  {
   "cell_type": "markdown",
   "metadata": {},
   "source": [
    "If you are in JupyterLab, you may need to install:\n",
    "- **nodejs**: `conda install -c conda-forge nodejs`\n",
    "- **jupyterlab-plotly extension**: jupyter labextension install jupyterlab-plotly\n",
    "- change the **default renderer** in the notebook with:\n",
    "```\n",
    "import plotly.io as pio\n",
    "pio.renderers.default = 'jupyterlab'\n",
    "```"
   ]
  },
  {
   "cell_type": "code",
   "execution_count": null,
   "metadata": {},
   "outputs": [],
   "source": []
  }
 ],
 "metadata": {
  "kernelspec": {
   "display_name": "Python 3",
   "language": "python",
   "name": "python3"
  },
  "language_info": {
   "codemirror_mode": {
    "name": "ipython",
    "version": 3
   },
   "file_extension": ".py",
   "mimetype": "text/x-python",
   "name": "python",
   "nbconvert_exporter": "python",
   "pygments_lexer": "ipython3",
   "version": "3.8.5"
  }
 },
 "nbformat": 4,
 "nbformat_minor": 4
}
