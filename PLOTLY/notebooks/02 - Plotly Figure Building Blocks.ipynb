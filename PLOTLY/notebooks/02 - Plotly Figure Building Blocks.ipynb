{
 "cells": [
  {
   "cell_type": "markdown",
   "metadata": {},
   "source": [
    "# Plotly Figure Building Blocks"
   ]
  },
  {
   "cell_type": "code",
   "execution_count": null,
   "metadata": {
    "ExecuteTime": {
     "end_time": "2017-11-12T12:11:54.642737",
     "start_time": "2017-11-12T12:11:53.056468"
    },
    "collapsed": true,
    "slideshow": {
     "slide_type": "-"
    }
   },
   "outputs": [],
   "source": [
    "# Import the library\n",
    "import plotly as py"
   ]
  },
  {
   "cell_type": "code",
   "execution_count": null,
   "metadata": {
    "ExecuteTime": {
     "end_time": "2017-11-12T12:12:00.250278",
     "start_time": "2017-11-12T12:12:00.244853"
    }
   },
   "outputs": [],
   "source": [
    "# and enable the offline mode in the notebook (not needed in Jupyter Lab)\n",
    "py.offline.init_notebook_mode(connected=True)"
   ]
  },
  {
   "cell_type": "code",
   "execution_count": null,
   "metadata": {
    "ExecuteTime": {
     "end_time": "2017-11-12T12:12:07.576419",
     "start_time": "2017-11-12T12:12:07.573724"
    },
    "collapsed": true
   },
   "outputs": [],
   "source": [
    "# Building blocks of Plotly plots\n",
    "import plotly.graph_objs as go"
   ]
  },
  {
   "cell_type": "code",
   "execution_count": null,
   "metadata": {
    "collapsed": true
   },
   "outputs": [],
   "source": [
    "# Constructing a figure\n",
    "import numpy as np\n",
    "x = np.linspace(0, 2*np.pi)\n",
    "\n",
    "# Traces\n",
    "trace0 = dict(\n",
    "    type='scatter', \n",
    "    x=x, \n",
    "    y=np.sin(x)\n",
    ")\n",
    "trace1 = dict(\n",
    "    type='scatter', \n",
    "    x=x, \n",
    "    y=np.cos(x)\n",
    ")\n",
    "\n",
    "# Figure\n",
    "fig = go.Figure(data=[trace0, trace1]) "
   ]
  },
  {
   "cell_type": "code",
   "execution_count": null,
   "metadata": {},
   "outputs": [],
   "source": [
    "# Display the result within the notebook:\n",
    "py.offline.iplot(fig)"
   ]
  },
  {
   "cell_type": "code",
   "execution_count": null,
   "metadata": {
    "ExecuteTime": {
     "end_time": "2017-11-13T22:24:57.042999",
     "start_time": "2017-11-13T22:24:56.957339"
    },
    "collapsed": true
   },
   "outputs": [],
   "source": [
    "# and now with a Layout\n",
    "x = np.linspace(0, 2*np.pi)\n",
    "\n",
    "# Traces\n",
    "trace0 = dict(\n",
    "    type='scatter', \n",
    "    x=x, \n",
    "    y=np.sin(x), \n",
    "    name='sin(x)'\n",
    ")\n",
    "trace1 = dict(\n",
    "    type='scatter', \n",
    "    x=x, \n",
    "    y=np.cos(x), \n",
    "    name='cos(x)'\n",
    ")\n",
    "\n",
    "# Layout\n",
    "layout = dict(\n",
    "    title='SIN and COS functions',\n",
    "    xaxis=dict(title='x'),\n",
    "    yaxis=dict(title='f(x)')\n",
    ")\n",
    "\n",
    "# Figure\n",
    "fig = go.Figure(data=[trace0, trace1], layout=layout) "
   ]
  },
  {
   "cell_type": "code",
   "execution_count": null,
   "metadata": {
    "ExecuteTime": {
     "end_time": "2017-11-13T22:24:57.789203",
     "start_time": "2017-11-13T22:24:57.758932"
    }
   },
   "outputs": [],
   "source": [
    "# Display the result within the notebook:\n",
    "py.offline.iplot(fig)"
   ]
  },
  {
   "cell_type": "code",
   "execution_count": null,
   "metadata": {
    "ExecuteTime": {
     "end_time": "2017-11-13T22:46:07.022226",
     "start_time": "2017-11-13T22:46:07.009245"
    }
   },
   "outputs": [],
   "source": [
    "# Remove Plotly links for a cleaner layout\n",
    "config = dict(modeBarButtonsToRemove=['sendDataToCloud'],\n",
    "              displaylogo=False)\n",
    "        \n",
    "py.offline.iplot(fig,\n",
    "                 show_link=False,\n",
    "                 config=config)"
   ]
  },
  {
   "cell_type": "markdown",
   "metadata": {},
   "source": [
    "## Exercise"
   ]
  },
  {
   "cell_type": "markdown",
   "metadata": {},
   "source": [
    "Using the example cluster data, loaded with:"
   ]
  },
  {
   "cell_type": "code",
   "execution_count": null,
   "metadata": {},
   "outputs": [],
   "source": [
    "table = pd.read_csv('https://raw.githubusercontent.com/chumo/Data2Serve/master/transition_clusters.csv')"
   ]
  },
  {
   "cell_type": "markdown",
   "metadata": {},
   "source": [
    "Build the following scatter plot\n",
    "\n",
    "![](images/fig_02.1.png)"
   ]
  },
  {
   "cell_type": "markdown",
   "metadata": {},
   "source": [
    "And the following histogram:\n",
    "\n",
    "![](images/fig_02.2.png)"
   ]
  },
  {
   "cell_type": "code",
   "execution_count": null,
   "metadata": {},
   "outputs": [],
   "source": []
  }
 ],
 "metadata": {
  "kernelspec": {
   "display_name": "Python 3",
   "language": "python",
   "name": "python3"
  },
  "language_info": {
   "codemirror_mode": {
    "name": "ipython",
    "version": 3
   },
   "file_extension": ".py",
   "mimetype": "text/x-python",
   "name": "python",
   "nbconvert_exporter": "python",
   "pygments_lexer": "ipython3",
   "version": "3.7.1"
  }
 },
 "nbformat": 4,
 "nbformat_minor": 2
}
