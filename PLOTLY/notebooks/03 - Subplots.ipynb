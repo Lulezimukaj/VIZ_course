{
 "cells": [
  {
   "cell_type": "markdown",
   "metadata": {},
   "source": [
    "# Subplots"
   ]
  },
  {
   "cell_type": "code",
   "execution_count": null,
   "metadata": {
    "ExecuteTime": {
     "end_time": "2017-11-12T12:11:54.642737",
     "start_time": "2017-11-12T12:11:53.056468"
    },
    "slideshow": {
     "slide_type": "-"
    }
   },
   "outputs": [],
   "source": [
    "# Import the library\n",
    "import plotly as py"
   ]
  },
  {
   "cell_type": "code",
   "execution_count": null,
   "metadata": {},
   "outputs": [],
   "source": [
    "# Contrary to what we saw so far, the figure object with subplots is defined beforehand:\n",
    "from plotly.subplots import make_subplots\n",
    "\n",
    "fig = make_subplots(\n",
    "    rows=1, \n",
    "    cols=2, \n",
    "    subplot_titles=('f(x) = sin(x)', 'f(x) = cos(x)'), \n",
    "    shared_yaxes=True,\n",
    ")"
   ]
  },
  {
   "cell_type": "markdown",
   "metadata": {},
   "source": [
    "## Appending traces with `.append_trace`"
   ]
  },
  {
   "cell_type": "code",
   "execution_count": null,
   "metadata": {},
   "outputs": [],
   "source": [
    "# Once the figure has been created, we use the method 'append_trace' to append each trace to the indicated subplot\n",
    "import numpy as np\n",
    "x = np.linspace(0, 2*np.pi)\n",
    "trace0 = dict(type='scatter', x=x, y=np.sin(x), name='sin(x)')\n",
    "trace1 = dict(type='scatter', x=x, y=np.cos(x), name='cos(x)')\n",
    "\n",
    "fig.append_trace(trace0, 1, 1)\n",
    "fig.append_trace(trace1, 1, 2)"
   ]
  },
  {
   "cell_type": "code",
   "execution_count": null,
   "metadata": {},
   "outputs": [],
   "source": [
    "fig.show()"
   ]
  },
  {
   "cell_type": "markdown",
   "metadata": {},
   "source": [
    "## Appending a spcific type of trace with the `.add_` methods"
   ]
  },
  {
   "cell_type": "code",
   "execution_count": null,
   "metadata": {},
   "outputs": [],
   "source": [
    "# Alternatively you can use add_scatter (or whatever add_...) specifying the axes to which it should be attached\n",
    "# fig.add_scatter(x=x, y=np.sin(x), name='sin(x)', xaxis='x1')\n",
    "# fig.add_scatter(x=x, y=np.cos(x), name='cos(x)', xaxis='x2')"
   ]
  },
  {
   "cell_type": "markdown",
   "metadata": {},
   "source": [
    "## The `.update_` methods to change the figure a posteriori"
   ]
  },
  {
   "cell_type": "code",
   "execution_count": null,
   "metadata": {},
   "outputs": [],
   "source": [
    "# Once the fig object has been created, and the traces have been added, \n",
    "# one can update any aspect of it by concatenating the .update methods.\n",
    "# Here are some of the most common use cases:\n",
    "\n",
    "fig.update_layout(\n",
    "    title='Trigonometric functions',\n",
    "    showlegend=False,\n",
    "    width=900,\n",
    "    height=500,\n",
    ").update_xaxes(\n",
    "    title='x',\n",
    ").update_yaxes(\n",
    "    title='f(x)',\n",
    "    col=1,\n",
    ").update_traces(\n",
    "    mode='lines+markers',\n",
    ")\n",
    "\n",
    "fig.show()"
   ]
  },
  {
   "cell_type": "markdown",
   "metadata": {},
   "source": [
    "## Exercise"
   ]
  },
  {
   "cell_type": "markdown",
   "metadata": {},
   "source": [
    "Using the example cluster data, loaded with:"
   ]
  },
  {
   "cell_type": "code",
   "execution_count": null,
   "metadata": {},
   "outputs": [],
   "source": [
    "import pandas as pd\n",
    "table = pd.read_csv('https://raw.githubusercontent.com/chumo/Data2Serve/master/transition_clusters.csv')"
   ]
  },
  {
   "cell_type": "markdown",
   "metadata": {},
   "source": [
    "Build the following figure\n",
    "\n",
    "![](images/fig_03.1.png)"
   ]
  },
  {
   "cell_type": "code",
   "execution_count": null,
   "metadata": {},
   "outputs": [],
   "source": []
  }
 ],
 "metadata": {
  "kernelspec": {
   "display_name": "Python 3",
   "language": "python",
   "name": "python3"
  },
  "language_info": {
   "codemirror_mode": {
    "name": "ipython",
    "version": 3
   },
   "file_extension": ".py",
   "mimetype": "text/x-python",
   "name": "python",
   "nbconvert_exporter": "python",
   "pygments_lexer": "ipython3",
   "version": "3.7.3"
  }
 },
 "nbformat": 4,
 "nbformat_minor": 4
}
