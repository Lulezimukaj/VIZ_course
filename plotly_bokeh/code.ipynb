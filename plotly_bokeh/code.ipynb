{
 "cells": [
  {
   "cell_type": "markdown",
   "metadata": {
    "slideshow": {
     "slide_type": "slide"
    }
   },
   "source": [
    "# [Plotly](https://plot.ly/feed/)"
   ]
  },
  {
   "cell_type": "markdown",
   "metadata": {},
   "source": [
    "## Line and Scatter plots"
   ]
  },
  {
   "cell_type": "markdown",
   "metadata": {
    "slideshow": {
     "slide_type": "subslide"
    }
   },
   "source": [
    "Example for Figure, Data and Layout Object  "
   ]
  },
  {
   "cell_type": "code",
   "execution_count": null,
   "metadata": {
    "ExecuteTime": {
     "end_time": "2017-04-24T23:34:33.561439",
     "start_time": "2017-04-24T23:34:32.038352"
    },
    "collapsed": true
   },
   "outputs": [],
   "source": [
    "import plotly as py"
   ]
  },
  {
   "cell_type": "code",
   "execution_count": null,
   "metadata": {
    "ExecuteTime": {
     "end_time": "2017-04-24T23:34:34.383611",
     "start_time": "2017-04-24T23:34:34.335961"
    },
    "collapsed": false
   },
   "outputs": [],
   "source": [
    "# offline mode - enables standalone HTML in the notebook\n",
    "py.offline.init_notebook_mode(connected=False)"
   ]
  },
  {
   "cell_type": "code",
   "execution_count": null,
   "metadata": {
    "ExecuteTime": {
     "end_time": "2017-04-24T23:34:36.115865",
     "start_time": "2017-04-24T23:34:36.109427"
    },
    "collapsed": true
   },
   "outputs": [],
   "source": [
    "# Make data and layout objects\n",
    "import plotly.graph_objs as go\n",
    "\n",
    "trace1 = go.Scatter(   # Initialize the scatter trace object                         \n",
    "        x=[1, 2, 3],    # Reference between trace's x coord. and x axis\n",
    "        y=[3, 1, 6],    # Reference between trace's y coord. and y axis\n",
    "        mode='markers') # Mode of the scatter trace object (lines, text)\n",
    "\n",
    "trace2 = go.Scatter(   # Initialze a second scatter trace object\n",
    "        x=[1, 2, 3],\n",
    "        y=[2, 4, 5])    \n",
    "\n",
    "data = [trace1, trace2] # Create data list-like object of 2 traces\n",
    " \n",
    "layout = go.Layout(title='Some Experiment') # Set the figures title"
   ]
  },
  {
   "cell_type": "code",
   "execution_count": null,
   "metadata": {
    "ExecuteTime": {
     "end_time": "2017-04-24T23:34:37.489932",
     "start_time": "2017-04-24T23:34:37.486823"
    },
    "collapsed": false
   },
   "outputs": [],
   "source": [
    "# Make Figure object\n",
    "fig = go.Figure(data=data, layout=layout) "
   ]
  },
  {
   "cell_type": "code",
   "execution_count": null,
   "metadata": {
    "ExecuteTime": {
     "end_time": "2017-04-24T23:34:38.751413",
     "start_time": "2017-04-24T23:34:38.744003"
    },
    "collapsed": false
   },
   "outputs": [],
   "source": [
    "#open a plot inside notebook\n",
    "py.offline.iplot(fig) "
   ]
  },
  {
   "cell_type": "code",
   "execution_count": null,
   "metadata": {
    "ExecuteTime": {
     "end_time": "2017-01-15T22:44:52.277935",
     "start_time": "2017-01-15T22:44:51.689709"
    },
    "collapsed": false
   },
   "outputs": [],
   "source": [
    "# create HTML and open in browser, store HTML\n",
    "py.offline.plot(fig, filename='first_plot.html') "
   ]
  },
  {
   "cell_type": "markdown",
   "metadata": {
    "ExecuteTime": {
     "end_time": "2016-10-02T15:22:29.525960",
     "start_time": "2016-10-02T15:22:29.523763"
    }
   },
   "source": [
    "**Online mode**"
   ]
  },
  {
   "cell_type": "markdown",
   "metadata": {
    "collapsed": true
   },
   "source": [
    "It is possible to host your graphs online through plotly.com"
   ]
  },
  {
   "cell_type": "code",
   "execution_count": null,
   "metadata": {
    "ExecuteTime": {
     "end_time": "2017-01-15T22:45:45.942974",
     "start_time": "2017-01-15T22:45:43.580087"
    },
    "collapsed": false
   },
   "outputs": [],
   "source": [
    "import plotly.tools as tls\n",
    "\n",
    "# Get credentials from signin in to Plotly or use the dsr_plotly-account\n",
    "# Username: dsr_plotly passw: 12345 (API calls and views limited)\n",
    "tls.set_credentials_file(username=\"dsr_plotly\", api_key=\"kdaos95jui\") \n",
    "\n",
    "# We are sending the plot to plotly with the following command\n",
    "py.plotly.plot(fig, filename='first_plot', sharing='public') \n",
    "\n",
    "tls.embed('https://plot.ly/~dsr_plotly/6')"
   ]
  },
  {
   "cell_type": "markdown",
   "metadata": {
    "slideshow": {
     "slide_type": "subslide"
    }
   },
   "source": [
    "[Plot here](https://plot.ly/~dsr_plotly/6/fig-03-some-experiment/)"
   ]
  },
  {
   "cell_type": "markdown",
   "metadata": {
    "collapsed": false,
    "slideshow": {
     "slide_type": "subslide"
    }
   },
   "source": [
    "**Axis title** [*Exercise*]: Take the plot from before and change the title of the x-axis to *Some independent variable* and the title of the y-axis to *Some dependent variable*.   \n",
    "Hint: Change the layout-object by adding ```xaxis = dict(title = 'title name')```"
   ]
  },
  {
   "cell_type": "markdown",
   "metadata": {
    "slideshow": {
     "slide_type": "subslide"
    }
   },
   "source": [
    "<font color='red'>Double click to see the solution</font>\n",
    "<code style='display:none'>\n",
    "\n",
    "-- SOLUTION --\n",
    "\n",
    "layout = go.Layout(\n",
    "    title='Some Experiment',\n",
    "    xaxis = dict(title = 'Some independent variable'),\n",
    "    yaxis = dict(title = 'Some dependent variable')\n",
    "    )\n",
    "\n",
    "fig = go.Figure(data=data, layout=layout)\n",
    "\n",
    "py.offline.iplot(fig)\n",
    "\n",
    "</code>"
   ]
  },
  {
   "cell_type": "markdown",
   "metadata": {},
   "source": [
    "**Line dash**"
   ]
  },
  {
   "cell_type": "code",
   "execution_count": null,
   "metadata": {
    "ExecuteTime": {
     "end_time": "2017-04-24T23:51:22.947872",
     "start_time": "2017-04-24T23:51:22.916031"
    },
    "collapsed": true
   },
   "outputs": [],
   "source": [
    "# Add data\n",
    "month = ['Jan','Feb','Mar','Apr','May','Jun','Jul','Aug','Sep','Oct','Nov','Dec']\n",
    "high_2000 = [32.5,37.6,49.9,53.0,69.1,75.4,76.5,76.6,70.7,60.6,45.1,29.3]\n",
    "low_2000 = [13.8,22.3,32.5,37.2,49.9,56.1,57.7,58.3,51.2,42.8,31.6,15.9]\n",
    "high_2007 = [36.5,26.6,43.6,52.3,71.5,81.4,80.5,82.2,76.0,67.3,46.1,35.0]\n",
    "low_2007 = [23.6,14.0,27.0,36.8,47.6,57.7,58.9,61.2,53.3,48.5,31.0,23.6]\n",
    "name = ['High 2007','Low 2007','High 2000','Low 2000']\n",
    "color = ['rgb(205,12,24)','rgb(22,96,167)','rgb(205,12,24)','rgb(22,96,167)']\n",
    "\n",
    "# Create and style traces\n",
    "trace0 = go.Scatter(x = month,y = high_2007, name = name[0],\n",
    "    line = dict(color = (color[0]), width = 4))\n",
    "trace1 = go.Scatter(x = month,y = low_2007, name = name[1],\n",
    "    line = dict(color = (color[1]), width = 4))\n",
    "trace2 = go.Scatter(x = month,y = high_2000, name = name[2],\n",
    "    line = dict(color = (color[2]), width = 4,dash = 'dash'))\n",
    "trace3 = go.Scatter(x = month,y = low_2000, name = name[3],\n",
    "    line = dict(color = (color[3]), width = 4,dash = 'dash'))\n",
    "data = [trace0, trace1, trace2, trace3]\n",
    "\n",
    "# Edit the layout\n",
    "layout = go.Layout(title = 'Average High and Low Temperatures in New York',\n",
    "              xaxis = dict(title = 'Temperature (degrees F)'),\n",
    "              yaxis = dict(title = 'Month'))\n",
    "\n",
    "fig = go.Figure(data=data, layout=layout)"
   ]
  },
  {
   "cell_type": "code",
   "execution_count": null,
   "metadata": {
    "ExecuteTime": {
     "end_time": "2017-04-24T23:51:23.704901",
     "start_time": "2017-04-24T23:51:23.696271"
    },
    "collapsed": false
   },
   "outputs": [],
   "source": [
    "py.offline.iplot(fig)"
   ]
  },
  {
   "cell_type": "markdown",
   "metadata": {},
   "source": [
    "**Marker style and legends**"
   ]
  },
  {
   "cell_type": "code",
   "execution_count": null,
   "metadata": {
    "ExecuteTime": {
     "end_time": "2017-04-24T23:51:46.908797",
     "start_time": "2017-04-24T23:51:46.894780"
    },
    "collapsed": true
   },
   "outputs": [],
   "source": [
    "trace0 = go.Scatter(\n",
    "    x=[1, 2, 3, 4],\n",
    "    y=[10, 11, 12, 13],\n",
    "    mode='markers',\n",
    "    marker=dict(\n",
    "        colorscale='Viridis',\n",
    "        color=[1, 2, 3, 10],\n",
    "        opacity=[1, 0.8, 0.6, 0.4],\n",
    "        size=[40, 60, 80, 100],\n",
    "        showscale=True\n",
    "    )\n",
    ")\n",
    "\n",
    "data = [trace0]\n",
    "\n",
    "layout = go.Layout(\n",
    "    showlegend=False,\n",
    "    height=600,\n",
    "    width=600,\n",
    ")\n",
    "\n",
    "fig = go.Figure(data=data, layout=layout)"
   ]
  },
  {
   "cell_type": "code",
   "execution_count": null,
   "metadata": {
    "ExecuteTime": {
     "end_time": "2017-04-24T23:51:49.316623",
     "start_time": "2017-04-24T23:51:49.309776"
    },
    "collapsed": false
   },
   "outputs": [],
   "source": [
    "py.offline.iplot(fig)"
   ]
  },
  {
   "cell_type": "markdown",
   "metadata": {},
   "source": [
    "**Hover text**"
   ]
  },
  {
   "cell_type": "code",
   "execution_count": null,
   "metadata": {
    "ExecuteTime": {
     "end_time": "2017-04-24T23:52:11.970781",
     "start_time": "2017-04-24T23:52:11.956461"
    },
    "collapsed": true
   },
   "outputs": [],
   "source": [
    "data=[\n",
    "    go.Scatter(\n",
    "        x=[1, 2, 3, 4],\n",
    "        y=[10, 11, 12, 13],\n",
    "        text=['size: 40', 'size: 60', 'size: 80', 'size: 100'],\n",
    "        mode='markers',\n",
    "        marker=dict(\n",
    "            colorscale='Viridis',\n",
    "            color= [120, 125, 130, 135, 140],\n",
    "            opacity=[1, 0.8, 0.6, 0.4],\n",
    "            size=[40, 60, 80, 100],\n",
    "            showscale=True\n",
    "        )\n",
    "    )\n",
    "]\n",
    "\n",
    "layout = go.Layout(\n",
    "    showlegend=False,\n",
    "    height=600,\n",
    "    width=600,\n",
    ")\n",
    "\n",
    "fig = go.Figure(data=data, layout=layout)"
   ]
  },
  {
   "cell_type": "code",
   "execution_count": null,
   "metadata": {
    "ExecuteTime": {
     "end_time": "2017-04-24T23:52:14.107242",
     "start_time": "2017-04-24T23:52:14.100087"
    },
    "collapsed": false
   },
   "outputs": [],
   "source": [
    "py.offline.iplot(fig)"
   ]
  },
  {
   "cell_type": "markdown",
   "metadata": {
    "slideshow": {
     "slide_type": "subslide"
    }
   },
   "source": [
    "## Bar Charts"
   ]
  },
  {
   "cell_type": "code",
   "execution_count": null,
   "metadata": {
    "ExecuteTime": {
     "end_time": "2017-04-24T23:52:26.653766",
     "start_time": "2017-04-24T23:52:26.648597"
    },
    "collapsed": true
   },
   "outputs": [],
   "source": [
    "trace1 = go.Bar(\n",
    "    x=['giraffes', 'orangutans', 'monkeys'],\n",
    "    y=[20, 14, 23],\n",
    "    name='SF Zoo'\n",
    ")\n",
    "\n",
    "data = [trace1]\n",
    "\n",
    "fig = go.Figure(data=data, layout=layout)"
   ]
  },
  {
   "cell_type": "code",
   "execution_count": null,
   "metadata": {
    "ExecuteTime": {
     "end_time": "2017-04-24T23:52:30.577302",
     "start_time": "2017-04-24T23:52:30.570494"
    },
    "collapsed": false
   },
   "outputs": [],
   "source": [
    "py.offline.iplot(fig)"
   ]
  },
  {
   "cell_type": "markdown",
   "metadata": {
    "slideshow": {
     "slide_type": "subslide"
    }
   },
   "source": [
    "**Grouped bar chart** [*Exercise*]: Take the barchart from before:\n",
    "1. Add a second ```trace2``` with the following attributes \n",
    "```python\n",
    "x=['giraffes', 'orangutans', 'monkeys'],\n",
    "y=[12, 18, 29],\n",
    "name='LA Zoo'\n",
    "```\n",
    "2. Add both traces to the list-like data object\n",
    "3. Create a grouped barchart by manipulating the layout graph-object using\n",
    "```python\n",
    "barmode='group'\n",
    "```"
   ]
  },
  {
   "cell_type": "markdown",
   "metadata": {
    "slideshow": {
     "slide_type": "subslide"
    }
   },
   "source": [
    "<font color='red'>Double click to see the solution</font>\n",
    "<code style='display:none'>\n",
    "\n",
    "-- SOLUTION --\n",
    "\n",
    "trace2 = go.Bar(\n",
    "    x=['giraffes', 'orangutans', 'monkeys'],\n",
    "    y=[12, 18, 29],\n",
    "    name='LA Zoo'\n",
    ")\n",
    "\n",
    "data = [trace1, trace2]\n",
    "\n",
    "layout = go.Layout(\n",
    "    barmode='group' #try out stack here\n",
    ")\n",
    "\n",
    "fig = go.Figure(data=data, layout=layout)\n",
    "\n",
    "py.offline.iplot(fig)\n",
    "\n",
    "</code>"
   ]
  },
  {
   "cell_type": "markdown",
   "metadata": {
    "collapsed": true,
    "slideshow": {
     "slide_type": "subslide"
    }
   },
   "source": [
    "**Hover Text in Barchart** [*Exercise*]: Take the grouped barchart from before:\n",
    "1. Add a hover text containing the animal names to both traces using\n",
    "```python\n",
    "text=['giraffes', 'orangutans', 'monkeys'],\n",
    "```\n",
    "2. Change the paper background color and chart color to ```rgb(233,233,233)``` using\n",
    "```python\n",
    "paper_bgcolor='rgb(233,233,233)',\n",
    "plot_bgcolor='rgb(233,233,233)'\n",
    "```\n",
    "Think about which graph object should have the attribute background color!"
   ]
  },
  {
   "cell_type": "markdown",
   "metadata": {
    "slideshow": {
     "slide_type": "subslide"
    }
   },
   "source": [
    "<font color='red'>Double click to see the solution</font>\n",
    "<code style='display:none'>\n",
    "\n",
    "-- SOLUTION --\n",
    "\n",
    "trace1 = go.Bar(\n",
    "    x=['giraffes', 'orangutans', 'monkeys'],\n",
    "    y=[20, 14, 23],\n",
    "    name='SF Zoo',\n",
    "    text=['giraffes', 'orangutans', 'monkeys']\n",
    ")\n",
    "\n",
    "trace2 = go.Bar(\n",
    "    x=['giraffes', 'orangutans', 'monkeys'],\n",
    "    y=[12, 18, 29],\n",
    "    name='LA Zoo',\n",
    "    text=['giraffes', 'orangutans', 'monkeys']\n",
    ")\n",
    "\n",
    "data = [trace1, trace2]\n",
    "\n",
    "layout = go.Layout(\n",
    "    barmode='group', #try out stack here\n",
    "    paper_bgcolor='rgb(233,233,233)',\n",
    "    plot_bgcolor='rgb(233,233,233)'\n",
    ")\n",
    "\n",
    "fig = go.Figure(data=data, layout=layout)\n",
    "\n",
    "py.offline.iplot(fig)\n",
    "\n",
    "</code>"
   ]
  },
  {
   "cell_type": "markdown",
   "metadata": {
    "slideshow": {
     "slide_type": "slide"
    }
   },
   "source": [
    "## Maps"
   ]
  },
  {
   "cell_type": "code",
   "execution_count": null,
   "metadata": {
    "ExecuteTime": {
     "end_time": "2017-04-24T23:53:22.606306",
     "start_time": "2017-04-24T23:53:22.589733"
    },
    "collapsed": true
   },
   "outputs": [],
   "source": [
    "import pandas as pd\n",
    "\n",
    "df = pd.read_csv('data/new_berliners.csv')\n",
    "df = df.sort_values('number', ascending=False)"
   ]
  },
  {
   "cell_type": "code",
   "execution_count": null,
   "metadata": {
    "ExecuteTime": {
     "end_time": "2017-04-24T23:53:24.319723",
     "start_time": "2017-04-24T23:53:24.306086"
    },
    "collapsed": false
   },
   "outputs": [],
   "source": [
    "intervals = pd.cut(df.number, bins=[1000, 3000, 5000, 10000, 25000], right=False)\n",
    "df = df.set_index(intervals)"
   ]
  },
  {
   "cell_type": "code",
   "execution_count": null,
   "metadata": {
    "ExecuteTime": {
     "end_time": "2017-04-24T23:53:26.257821",
     "start_time": "2017-04-24T23:53:26.239266"
    },
    "collapsed": false
   },
   "outputs": [],
   "source": [
    "df.head(10)"
   ]
  },
  {
   "cell_type": "code",
   "execution_count": null,
   "metadata": {
    "ExecuteTime": {
     "end_time": "2017-04-24T23:53:30.129535",
     "start_time": "2017-04-24T23:53:30.077037"
    },
    "collapsed": false
   },
   "outputs": [],
   "source": [
    "df['text'] = df['city'] + ', Immigrants: ' + (df['number']).astype(str)\n",
    "\n",
    "segments = []\n",
    "\n",
    "for intv in df.index.categories:\n",
    "    df_sub = df.loc[intv]\n",
    "    segment = go.Scattergeo(\n",
    "        lon = df_sub['lon'],\n",
    "        lat = df_sub['lat'],\n",
    "        text = df_sub['text'],\n",
    "        marker = dict(\n",
    "            size = df_sub['number']/100,\n",
    "            line = dict(width=0.5, color='rgb(40,40,40)'),\n",
    "            sizemode = 'area'),\n",
    "        name = intv\n",
    "        )\n",
    "    segments.append(segment)\n",
    "    \n",
    "layout = dict(\n",
    "        title = 'Origin of New Berliners',\n",
    "        showlegend = True,\n",
    "        geo = dict(\n",
    "            scope='Europe',\n",
    "            projection=dict(scale=8, rotation=dict(lat=50.776351,lon=6.083862)),\n",
    "            showcountries = True,\n",
    "            showland = True,\n",
    "            showocean = True,\n",
    "            countrywidth = 1)\n",
    "        )\n",
    "            \n",
    "fig = go.Figure(data=segments, layout=layout)\n",
    "\n",
    "py.offline.iplot(fig)"
   ]
  },
  {
   "cell_type": "markdown",
   "metadata": {
    "slideshow": {
     "slide_type": "skip"
    }
   },
   "source": [
    "## Cufflinks: *bind plotly directly to pandas dataframes*"
   ]
  },
  {
   "cell_type": "markdown",
   "metadata": {},
   "source": [
    "Requires the installation of another free library from Plotly:\n",
    "\n",
    "`pip install cufflinks`"
   ]
  },
  {
   "cell_type": "code",
   "execution_count": null,
   "metadata": {
    "ExecuteTime": {
     "end_time": "2017-04-24T23:53:53.614338",
     "start_time": "2017-04-24T23:53:53.611512"
    },
    "collapsed": true
   },
   "outputs": [],
   "source": [
    "import numpy as np"
   ]
  },
  {
   "cell_type": "code",
   "execution_count": null,
   "metadata": {
    "ExecuteTime": {
     "end_time": "2017-04-24T23:53:54.756609",
     "start_time": "2017-04-24T23:53:54.729572"
    },
    "collapsed": false
   },
   "outputs": [],
   "source": [
    "# After importing, new methods are available for pandas dataframes\n",
    "import cufflinks as cf"
   ]
  },
  {
   "cell_type": "code",
   "execution_count": null,
   "metadata": {
    "ExecuteTime": {
     "end_time": "2017-04-24T23:53:56.721440",
     "start_time": "2017-04-24T23:53:56.675295"
    },
    "collapsed": false
   },
   "outputs": [],
   "source": [
    "# Configure it to work offline (plots are not sent to plotly.com)\n",
    "cf.go_offline()"
   ]
  },
  {
   "cell_type": "code",
   "execution_count": null,
   "metadata": {
    "ExecuteTime": {
     "end_time": "2017-04-24T23:53:59.669409",
     "start_time": "2017-04-24T23:53:59.665752"
    },
    "collapsed": false
   },
   "outputs": [],
   "source": [
    "# A random dataframe as example\n",
    "df = pd.DataFrame({'Column A':np.random.rand(5), 'Column B':np.random.rand(5)})"
   ]
  },
  {
   "cell_type": "code",
   "execution_count": null,
   "metadata": {
    "ExecuteTime": {
     "end_time": "2017-04-24T23:54:00.953880",
     "start_time": "2017-04-24T23:54:00.945392"
    },
    "collapsed": false
   },
   "outputs": [],
   "source": [
    "df"
   ]
  },
  {
   "cell_type": "code",
   "execution_count": null,
   "metadata": {
    "ExecuteTime": {
     "end_time": "2017-04-24T23:54:04.573545",
     "start_time": "2017-04-24T23:54:04.553744"
    },
    "collapsed": false
   },
   "outputs": [],
   "source": [
    "# The Plotly plot can be generated with a one liner directly from the dataframe\n",
    "df.iplot(kind='bar', title='A random example', xTitle='index', yTitle='value')"
   ]
  },
  {
   "cell_type": "code",
   "execution_count": null,
   "metadata": {
    "ExecuteTime": {
     "end_time": "2017-01-15T22:51:14.679116",
     "start_time": "2017-01-15T22:51:14.175407"
    },
    "collapsed": false
   },
   "outputs": [],
   "source": [
    "# Export it as standalone HTML converting first to plotly figure\n",
    "fig = df.iplot(kind='bar', title='A random example', xTitle='index', yTitle='value', asFigure=True)\n",
    "\n",
    "# and then using the plotly library\n",
    "py.offline.plot(fig, filename='my_cufflinks_plot.html', include_plotlyjs=True)"
   ]
  },
  {
   "cell_type": "markdown",
   "metadata": {
    "slideshow": {
     "slide_type": "slide"
    }
   },
   "source": [
    "## Simple Buttons and Animations"
   ]
  },
  {
   "cell_type": "code",
   "execution_count": null,
   "metadata": {
    "ExecuteTime": {
     "end_time": "2017-04-25T00:25:06.476406",
     "start_time": "2017-04-25T00:25:06.454471"
    },
    "collapsed": false
   },
   "outputs": [],
   "source": [
    "from IPython.display import display, HTML\n",
    "\n",
    "data = [{'x': [0, 1], 'y': [0, 1]}]\n",
    "\n",
    "layout = go.Layout(xaxis={'range': [0, 5], 'autorange': False},\n",
    "                   yaxis={'range': [0, 5], 'autorange': False},\n",
    "                   title='Start Title',\n",
    "                   updatemenus=[{'type': 'buttons', 'buttons': [{'label': 'Play',\n",
    "                                                 'method': 'animate',\n",
    "                                                 'args': [None]}]}])\n",
    "\n",
    "frames = [{'data': [{'x': [1, 2], 'y': [1, 2]}]},\n",
    "          {'data': [{'x': [1, 4], 'y': [1, 4]}]},\n",
    "          {'data': [{'x': [3, 4], 'y': [3, 4]}],\n",
    "           'layout': {'title': 'End Title'}}]\n",
    "\n",
    "fig = go.Figure(data=data, layout=layout, frames=frames)\n",
    "\n",
    "py.offline.iplot(fig)"
   ]
  },
  {
   "cell_type": "markdown",
   "metadata": {},
   "source": [
    "## Native interactivity with ipywidgets"
   ]
  },
  {
   "cell_type": "code",
   "execution_count": null,
   "metadata": {
    "ExecuteTime": {
     "end_time": "2017-04-25T00:26:48.126378",
     "start_time": "2017-04-25T00:26:48.088603"
    },
    "collapsed": false
   },
   "outputs": [],
   "source": [
    "from ipywidgets import interact\n",
    "\n",
    "def view_image(w):\n",
    "    print(w)\n",
    "    x = np.linspace(0,6)\n",
    "    y = np.sin(w*x)\n",
    "    trace = go.Scatter(x=x,y=y)\n",
    "    fig = go.Figure(data=[trace])\n",
    "    py.offline.iplot(fig)\n",
    "\n",
    "interact(view_image, w=10)"
   ]
  },
  {
   "cell_type": "markdown",
   "metadata": {
    "slideshow": {
     "slide_type": "subslide"
    }
   },
   "source": [
    "## Other Amazing Stuff\n",
    "\n",
    "1. [Streaming Data](https://plot.ly/python/streaming-tutorial/)\n",
    "2. [Connecting Databases](https://plot.ly/python/#databases)\n",
    "3. [Building Reports](https://plot.ly/python/html-reports/)\n",
    "4. [Plotly Dashboards](https://plot.ly/dashboards/)\n"
   ]
  },
  {
   "cell_type": "markdown",
   "metadata": {
    "slideshow": {
     "slide_type": "slide"
    }
   },
   "source": [
    "# [Bokeh](http://bokeh.pydata.org/en/latest/)"
   ]
  },
  {
   "cell_type": "markdown",
   "metadata": {
    "slideshow": {
     "slide_type": "slide"
    }
   },
   "source": [
    "## How to start"
   ]
  },
  {
   "cell_type": "code",
   "execution_count": null,
   "metadata": {
    "ExecuteTime": {
     "end_time": "2017-01-18T00:46:22.649866",
     "start_time": "2017-01-18T00:46:22.131580"
    },
    "collapsed": true
   },
   "outputs": [],
   "source": [
    "# import methods for graph outputs\n",
    "from bokeh.charts import output_file, output_notebook, reset_output, show"
   ]
  },
  {
   "cell_type": "code",
   "execution_count": null,
   "metadata": {
    "ExecuteTime": {
     "end_time": "2016-10-06T15:49:52.503845",
     "start_time": "2016-10-06T15:49:52.500164"
    },
    "collapsed": false
   },
   "outputs": [],
   "source": [
    "# by invoking output_file(), the method show() will generate an extenral html file with the plot\n",
    "output_file('bokeh_plot.html')"
   ]
  },
  {
   "cell_type": "code",
   "execution_count": null,
   "metadata": {
    "ExecuteTime": {
     "end_time": "2017-01-18T00:46:36.263345",
     "start_time": "2017-01-18T00:46:36.252579"
    },
    "collapsed": false
   },
   "outputs": [],
   "source": [
    "# if you just want to show the plot in the notebook, first disable the operation above...\n",
    "reset_output()\n",
    "\n",
    "# and then invoke output_notebook(), so that the method show() will show the graph in the notebook\n",
    "output_notebook()"
   ]
  },
  {
   "cell_type": "markdown",
   "metadata": {
    "slideshow": {
     "slide_type": "subslide"
    }
   },
   "source": [
    "**Example Based on `bokeh.charts`**"
   ]
  },
  {
   "cell_type": "code",
   "execution_count": null,
   "metadata": {
    "ExecuteTime": {
     "end_time": "2017-01-18T00:46:54.643193",
     "start_time": "2017-01-18T00:46:54.210736"
    },
    "collapsed": false,
    "scrolled": false
   },
   "outputs": [],
   "source": [
    "from bokeh.charts import BoxPlot\n",
    "from bokeh.sampledata.autompg import autompg as df\n",
    "\n",
    "p = BoxPlot(df, values='mpg', label='cyl', color='cyl', title=\"MPG Summary (grouped and shaded by CYL)\")\n",
    "\n",
    "show(p)"
   ]
  },
  {
   "cell_type": "markdown",
   "metadata": {
    "slideshow": {
     "slide_type": "slide"
    }
   },
   "source": [
    "## Bokeh Glyphs\n",
    "\n",
    "Glyph =  Basic visual building block of Bokeh plots:\n",
    "\n",
    "Types:\n",
    "+ Line\n",
    "+ Marker\n",
    "+ Patch\n",
    "+ Rectangles and Ovals\n",
    "+ Images\n",
    "+ Wedges and Arcs\n",
    "+ ...for more glyph types [click here](http://bokeh.pydata.org/en/latest/docs/user_guide/plotting.html)."
   ]
  },
  {
   "cell_type": "markdown",
   "metadata": {
    "slideshow": {
     "slide_type": "subslide"
    }
   },
   "source": [
    "**Line glyphs**"
   ]
  },
  {
   "cell_type": "code",
   "execution_count": null,
   "metadata": {
    "ExecuteTime": {
     "end_time": "2017-01-18T00:49:54.489041",
     "start_time": "2017-01-18T00:49:54.428725"
    },
    "collapsed": false
   },
   "outputs": [],
   "source": [
    "from bokeh.plotting import figure\n",
    "\n",
    "#prepare some data\n",
    "x = [1, 2, 3, 4, 5]\n",
    "y = [6, 7, 2, 4, 5]\n",
    "\n",
    "#create a new plot with a title and axis labels\n",
    "p = figure(title=\"simple line example\", x_axis_label='x', y_axis_label='y')\n",
    "\n",
    "#add a line renderer with legend and line thickness\n",
    "p.line(x, y, legend=\"Temp.\", line_width=2)\n",
    "\n",
    "#show the results\n",
    "show(p)"
   ]
  },
  {
   "cell_type": "markdown",
   "metadata": {},
   "source": [
    "**Circle glyphs**"
   ]
  },
  {
   "cell_type": "code",
   "execution_count": null,
   "metadata": {
    "ExecuteTime": {
     "end_time": "2017-01-18T00:51:54.519214",
     "start_time": "2017-01-18T00:51:54.462683"
    },
    "collapsed": false
   },
   "outputs": [],
   "source": [
    "# create a new plot with a title and axis labels\n",
    "p = figure(title=\"simple line/circle example\", x_axis_label='x', y_axis_label='y')\n",
    "\n",
    "# add two glyphs a line and a circle glyph\n",
    "p.line(x, y, legend=\"Temp.\", line_width=2)\n",
    "p.circle(x, y, size=20, color=\"navy\", alpha=0.5)\n",
    "\n",
    "show(p)"
   ]
  },
  {
   "cell_type": "markdown",
   "metadata": {
    "slideshow": {
     "slide_type": "subslide"
    }
   },
   "source": [
    "**Annular Wedges glyphs**"
   ]
  },
  {
   "cell_type": "code",
   "execution_count": null,
   "metadata": {
    "ExecuteTime": {
     "end_time": "2017-01-18T00:52:20.982014",
     "start_time": "2017-01-18T00:52:20.915820"
    },
    "collapsed": false
   },
   "outputs": [],
   "source": [
    "from numpy import pi\n",
    "\n",
    "# create a new plot with a title and axis labels\n",
    "p = figure(title=\"simple line/circle/wedge example\", x_axis_label='x', y_axis_label='y')\n",
    "\n",
    "# add three glyphs: a line, a circle and an angular glyph\n",
    "p.line(x, y, legend=\"Temp.\", line_width=2)\n",
    "p.circle(x, y, size=20, color=\"navy\", alpha=0.5)\n",
    "p.annular_wedge(x, y, inner_radius=0.1, outer_radius=0.25, start_angle=pi, end_angle=1.5*pi, color=\"green\", alpha=0.6)\n",
    "\n",
    "show(p)"
   ]
  },
  {
   "cell_type": "markdown",
   "metadata": {
    "slideshow": {
     "slide_type": "subslide"
    }
   },
   "source": [
    "**Exercise - Bokeh 1 - Glyphs**\n",
    "\n",
    "1. Load the following data\n",
    "\n",
    "```python\n",
    "month = [1,2,3,4,5,6,7,8,9,10,11,12]\n",
    "high_2000 = [32.5,37.6,49.9,53.0,69,75.4,76.5,76.6,70.7,60.6,45,29.3]\n",
    "low_2000 = [13.8,22.3,32.5,37.2,49.9,56,57.7,58.3,52,42.8,31.6,15.9]\n",
    "high_2007 = [36.5,26.6,43.6,52.3,71.5,81.4,80.5,82.2,76,67.3,46.1,35]\n",
    "low_2007 = [23.6,14,27,36.8,47.6,57.7,58.9,61.2,53.3,48.5,31,23]\n",
    "name = ['High 2007','Low 2007','High 2000','Low 2000']\n",
    "color = [(205, 12, 24),(22, 96, 167),(205, 12, 24),(22, 96, 167)]\n",
    "```\n",
    "2. Visualize the data using a line glyph for each data list with the specified colors and names and map month on the x-axis. Use the following attributes for the line glyphs:\n",
    "    + `legend=name[]`\n",
    "    + `line_width=2`\n",
    "    + `color=color[]`\n",
    "    + `line_dash = [4,2]`\n",
    "3. Add a figure name (*Temperature in New York*) and axis-labels (*Month*, *Temperature in F°*) specifying the following figure attributes:\n",
    "    + `title=`\n",
    "    + `x_axis_label=`\n",
    "    + `y_axis_label=`\n"
   ]
  },
  {
   "cell_type": "markdown",
   "metadata": {
    "slideshow": {
     "slide_type": "subslide"
    }
   },
   "source": [
    "<font color='red'>Double click to see the solution</font>\n",
    "<code style='display:none'>\n",
    "\n",
    "-- SOLUTION --\n",
    "\n",
    "month = [1,2,3,4,5,6,7,8,9,10,11,12]\n",
    "high_2000 = [32.5,37.6,49.9,53.0,69.1,75.4,76.5,76.6,70.7,60.6,45.1,29.3]\n",
    "low_2000 = [13.8,22.3,32.5,37.2,49.9,56.1,57.7,58.3,51.2,42.8,31.6,15.9]\n",
    "high_2007 = [36.5,26.6,43.6,52.3,71.5,81.4,80.5,82.2,76.0,67.3,46.1,35.0]\n",
    "low_2007 = [23.6,14.0,27.0,36.8,47.6,57.7,58.9,61.2,53.3,48.5,31.0,23.6]\n",
    "name = ['High 2007','Low 2007','High 2000','Low 2000']\n",
    "color = [(205, 12, 24),(22, 96, 167),(205, 12, 24),(22, 96, 167)]\n",
    "\n",
    "p = figure(title=\"Temperature in New York\", x_axis_label='Month', y_axis_label='Temperature in F°')\n",
    "\n",
    "#add line glyphs\n",
    "p.line(month, high_2000, legend=name[0], line_width=2, color=color[0],line_dash=[4, 2])\n",
    "p.line(month, low_2000, legend=name[1], line_width=2, color=color[1],line_dash=[4, 2])\n",
    "p.line(month, high_2007, legend=name[2], line_width=2, color=color[2])\n",
    "p.line(month, low_2007, legend=name[3], line_width=2, color=color[3])\n",
    "\n",
    "show(p)\n",
    "\n",
    "</code>"
   ]
  },
  {
   "cell_type": "markdown",
   "metadata": {},
   "source": [
    "## Manipulating Plots"
   ]
  },
  {
   "cell_type": "markdown",
   "metadata": {
    "slideshow": {
     "slide_type": "skip"
    }
   },
   "source": [
    "**Setting Ranges of Plots**\n",
    "  \n",
    "+ Bokeh will attempt to automatically set the data bounds of plots to fit snugly around the data.\n",
    "+ However, one can manually set the range using ```x_range``` and ```y_range```."
   ]
  },
  {
   "cell_type": "code",
   "execution_count": null,
   "metadata": {
    "ExecuteTime": {
     "end_time": "2017-01-18T00:55:51.882516",
     "start_time": "2017-01-18T00:55:51.824915"
    },
    "collapsed": false
   },
   "outputs": [],
   "source": [
    "from bokeh.models import Range1d\n",
    "\n",
    "# create a new plot with a range set with a tuple\n",
    "p = figure(plot_width=400, plot_height=400, x_range=(0, 20))\n",
    "\n",
    "# set a range using a Range1d\n",
    "p.y_range = Range1d(0, 15)\n",
    "\n",
    "# add a line glyph\n",
    "p.line(x, y, legend=\"Temp.\", line_width=2)\n",
    "\n",
    "show(p)"
   ]
  },
  {
   "cell_type": "markdown",
   "metadata": {
    "slideshow": {
     "slide_type": "skip"
    }
   },
   "source": [
    "**Specifying the Axis - Categorical Axis**\n",
    "\n",
    "+ without defining the axis the linear axis is used as default, which is suitable for numerical data"
   ]
  },
  {
   "cell_type": "code",
   "execution_count": null,
   "metadata": {
    "ExecuteTime": {
     "end_time": "2017-01-18T00:58:02.617125",
     "start_time": "2017-01-18T00:58:02.561102"
    },
    "collapsed": false
   },
   "outputs": [],
   "source": [
    "factors = [\"a\", \"b\", \"c\", \"d\", \"e\", \"f\", \"g\", \"h\"]\n",
    "x = [50, 40, 65, 10, 25, 37, 80, 60]\n",
    "\n",
    "p = figure(y_range=factors) #set the range attribute of the y-axis to factors\n",
    "\n",
    "p.circle(x, factors, size=15, fill_color=\"orange\", line_color=\"green\", line_width=3)\n",
    "\n",
    "show(p)"
   ]
  },
  {
   "cell_type": "markdown",
   "metadata": {
    "slideshow": {
     "slide_type": "skip"
    }
   },
   "source": [
    "**Specifying the Axis - Datetime Axis**\n",
    "\n",
    "+ useful for timeseries data"
   ]
  },
  {
   "cell_type": "code",
   "execution_count": null,
   "metadata": {
    "ExecuteTime": {
     "end_time": "2017-01-18T00:59:22.284825",
     "start_time": "2017-01-18T00:59:21.627822"
    },
    "collapsed": false
   },
   "outputs": [],
   "source": [
    "import pandas as pd\n",
    "\n",
    "AAPL = pd.read_csv(\n",
    "        \"http://ichart.yahoo.com/table.csv?s=AAPL&a=0&b=1&c=2000&d=0&e=1&f=2010\",\n",
    "        parse_dates=['Date'])\n",
    "\n",
    "# create a new plot with a datetime axis type\n",
    "p = figure(width=800, height=250, x_axis_type=\"datetime\")\n",
    "\n",
    "p.line(AAPL['Date'], AAPL['Close'], color='navy', alpha=0.5)\n",
    "\n",
    "show(p)"
   ]
  },
  {
   "cell_type": "markdown",
   "metadata": {
    "slideshow": {
     "slide_type": "skip"
    }
   },
   "source": [
    "**Other axis specifications**\n",
    "  \n",
    "1. [Log-Scale axis](http://bokeh.pydata.org/en/0.10.0/docs/user_guide/plotting.html#log-scale-axes)\n",
    "    + Useful for data grows exponentially (e.g. GDP)\n",
    "2. [Twin axis](http://bokeh.pydata.org/en/0.10.0/docs/user_guide/plotting.html#twin-axes)\n",
    "    + Add multiple axes representing different ranges to a single plot"
   ]
  },
  {
   "cell_type": "markdown",
   "metadata": {
    "slideshow": {
     "slide_type": "skip"
    }
   },
   "source": [
    "**Annotations - Legends**"
   ]
  },
  {
   "cell_type": "code",
   "execution_count": null,
   "metadata": {
    "ExecuteTime": {
     "end_time": "2017-01-18T01:01:22.467458",
     "start_time": "2017-01-18T01:01:22.326441"
    },
    "collapsed": false
   },
   "outputs": [],
   "source": [
    "import numpy as np\n",
    "\n",
    "x = np.linspace(0, 4*np.pi, 100)\n",
    "y = np.sin(x)\n",
    "\n",
    "p = figure()\n",
    "\n",
    "p.circle(x, y, legend=\"sin(x)\")\n",
    "p.line(x, y, legend=\"sin(x)\")\n",
    "\n",
    "p.line(x, 2*y, legend=\"2*sin(x)\", line_dash=[4, 4], line_color=\"orange\", line_width=2)\n",
    "\n",
    "p.square(x, 3*y, legend=\"3*sin(x)\", fill_color=None, line_color=\"green\")\n",
    "p.line(x, 3*y, legend=\"3*sin(x)\", line_color=\"green\")\n",
    "\n",
    "show(p)"
   ]
  },
  {
   "cell_type": "markdown",
   "metadata": {
    "slideshow": {
     "slide_type": "slide"
    }
   },
   "source": [
    "## High-Level Charts"
   ]
  },
  {
   "cell_type": "markdown",
   "metadata": {
    "slideshow": {
     "slide_type": "subslide"
    }
   },
   "source": [
    "**Bar Charts**\n",
    "  \n",
    "+ Barcharts can be produced using a pandas data frame object  "
   ]
  },
  {
   "cell_type": "code",
   "execution_count": null,
   "metadata": {
    "ExecuteTime": {
     "end_time": "2017-01-18T01:02:44.589632",
     "start_time": "2017-01-18T01:02:44.562279"
    },
    "collapsed": false
   },
   "outputs": [],
   "source": [
    "from bokeh.charts import Bar\n",
    "from bokeh.sampledata.autompg import autompg as df\n",
    "\n",
    "df.head()"
   ]
  },
  {
   "cell_type": "code",
   "execution_count": null,
   "metadata": {
    "ExecuteTime": {
     "end_time": "2017-01-18T01:02:54.309835",
     "start_time": "2017-01-18T01:02:53.993851"
    },
    "collapsed": false
   },
   "outputs": [],
   "source": [
    "p = Bar(df, label='yr', values='mpg', \n",
    "        agg='mean', # default aggregation is sum\n",
    "        title=\"Average MPG by YR\")\n",
    "\n",
    "show(p)"
   ]
  },
  {
   "cell_type": "markdown",
   "metadata": {
    "slideshow": {
     "slide_type": "subslide"
    }
   },
   "source": [
    "**Bar Charts - Aggregations / Grouping**\n",
    "  \n",
    "1. Aggregations can be added to high-level chart objects. They specify how each group (here `yr`) should be aggregated\n",
    "2. Groups the data further into subgroups  \n",
    "[dataset-description](http://cs.nyu.edu/courses/fall00/G22.3033-001/weka/weka-3-0-2/data/auto-mpg.arff).\n",
    "\n",
    "Origins (1 = usa; 2 = europe; 3 = japan)  "
   ]
  },
  {
   "cell_type": "code",
   "execution_count": null,
   "metadata": {
    "ExecuteTime": {
     "end_time": "2017-01-18T01:05:08.745828",
     "start_time": "2017-01-18T01:05:08.015420"
    },
    "collapsed": false
   },
   "outputs": [],
   "source": [
    "from bokeh.charts import Bar\n",
    "from bokeh.sampledata.autompg import autompg as df\n",
    "\n",
    "p = Bar(df, label='yr', values='mpg', \n",
    "        agg='mean', #we take the average of the year\n",
    "        group='origin', #we group the bars into subgroups based on the origin of the cars\n",
    "        title=\"Average MPG by YR\",\n",
    "        legend='top_left')\n",
    "\n",
    "show(p)"
   ]
  },
  {
   "cell_type": "markdown",
   "metadata": {
    "slideshow": {
     "slide_type": "subslide"
    }
   },
   "source": [
    "**Exercise - Bokeh 2 - Bar Chart**\n",
    "\n",
    "1. Take the bar chart from before and plot the max value of `mpg` in each month\n",
    "2. Group by `cly` instead of `origin`\n",
    "2. Set the barwidth to `0.4` using the `bar_width` parameter directly in the Bar-object\n",
    "3. Add a legend in the top-right corner using `legend='top_right'`"
   ]
  },
  {
   "cell_type": "markdown",
   "metadata": {
    "slideshow": {
     "slide_type": "subslide"
    }
   },
   "source": [
    "<font color='red'>Double click to see the solution</font>\n",
    "<code style='display:none'>\n",
    "\n",
    "-- SOLUTION --\n",
    "\n",
    "from bokeh.charts import Bar\n",
    "from bokeh.sampledata.autompg import autompg as df\n",
    "\n",
    "p = Bar(df, label='yr', values='mpg', \n",
    "        agg='max',\n",
    "        group='cyl',\n",
    "        legend='top_right',\n",
    "        title='Max MPG by YR and Cylinder',\n",
    "        bar_width=0.4)\n",
    "\n",
    "show(p)\n",
    "\n",
    "</code>"
   ]
  },
  {
   "cell_type": "markdown",
   "metadata": {
    "slideshow": {
     "slide_type": "subslide"
    }
   },
   "source": [
    "**Histograms**\n",
    "+ Quickly display the distribution of values in a set of data. \n",
    "+ Pass a literal sequence of values (e.g a python list, NumPy or Pandas Series) to the object"
   ]
  },
  {
   "cell_type": "code",
   "execution_count": null,
   "metadata": {
    "ExecuteTime": {
     "end_time": "2017-01-18T01:06:51.231013",
     "start_time": "2017-01-18T01:06:50.087285"
    },
    "collapsed": false
   },
   "outputs": [],
   "source": [
    "from bokeh.charts import Histogram\n",
    "from bokeh.sampledata.autompg import autompg as df\n",
    "\n",
    "p = Histogram(df, \n",
    "            values='mpg',    #Pass the mpg column to the values parameter\n",
    "            bins=50,         #Adjust the number of bins to be displayed\n",
    "            color='navy',    #Adjust the color of the bars\n",
    "            title=\"MPG Distribution\")\n",
    "\n",
    "show(p)"
   ]
  },
  {
   "cell_type": "markdown",
   "metadata": {
    "slideshow": {
     "slide_type": "subslide"
    }
   },
   "source": [
    "**Histograms - Colour Groups**\n",
    "+ Color parameter can be used to group the data \n",
    "+ Pass values of one of the columns to the color parameter\n",
    "   + The data is first grouped by this column\n",
    "   + Histogram is generated for each group\n",
    "   + Each histogram is automatically colored differently, and a legend displayed  "
   ]
  },
  {
   "cell_type": "code",
   "execution_count": null,
   "metadata": {
    "ExecuteTime": {
     "end_time": "2017-01-18T01:07:10.107500",
     "start_time": "2017-01-18T01:07:10.092052"
    },
    "collapsed": false
   },
   "outputs": [],
   "source": [
    "df.head()"
   ]
  },
  {
   "cell_type": "code",
   "execution_count": null,
   "metadata": {
    "ExecuteTime": {
     "end_time": "2017-01-18T01:07:11.770079",
     "start_time": "2017-01-18T01:07:11.035578"
    },
    "collapsed": false
   },
   "outputs": [],
   "source": [
    "from bokeh.sampledata.autompg import autompg as df\n",
    "\n",
    "p = Histogram(df, \n",
    "              values='hp', \n",
    "              color='origin', #Pass origin column of df to the color parameter\n",
    "              title=\"HP Distribution (color grouped by CYL)\",\n",
    "              legend='top_right')\n",
    "\n",
    "show(p)"
   ]
  },
  {
   "cell_type": "markdown",
   "metadata": {
    "slideshow": {
     "slide_type": "subslide"
    }
   },
   "source": [
    "**Further High-Level Charts**\n",
    "1. Scatter Plots\n",
    "2. Box Plots\n",
    "3. Heat Map\n",
    "4. Time Series\n",
    "5. Donut Charts\n",
    "\n",
    "[User Guide](http://bokeh.pydata.org/en/0.11.0/docs/user_guide/charts.html)"
   ]
  },
  {
   "cell_type": "markdown",
   "metadata": {
    "slideshow": {
     "slide_type": "subslide"
    }
   },
   "source": [
    "## Styling Charts\n",
    "[Visual Properties](http://bokeh.pydata.org/en/0.11.0/docs/user_guide/styling.html)\n",
    "    + Line Properties\n",
    "    + Fill Properties\n",
    "    + Text Properties\n",
    "    + Specifying Colors"
   ]
  },
  {
   "cell_type": "markdown",
   "metadata": {
    "slideshow": {
     "slide_type": "subslide"
    }
   },
   "source": [
    "**Specifying Colors**\n",
    "\n",
    "Color values can be provided in any of the following ways:  \n",
    "+ any of the 147 named CSS colors, e.g. 'green', 'indigo' [See here](http://www.w3schools.com/colors/colors_names.asp)\n",
    "+ a 3-tuple of integers (r,g,b) between 0 and 255\n",
    "+ a 4-tuple of (r,g,b,a) where r, g, b are integers between 0 and 255 and a is a floating point value between 0 and 1\n",
    "+ hex value, e.g., '#FF0000', '#44444444'"
   ]
  },
  {
   "cell_type": "markdown",
   "metadata": {
    "slideshow": {
     "slide_type": "subslide"
    }
   },
   "source": [
    "**Plot Dimensions**\n",
    "+ Width and height of a Plot controlled by `plot_width` and `plot_height` attributes.\n",
    "+ Values are in screen units, \n",
    "+ Control the size of the entire canvas area, including any axes or titles\n",
    "+ `responsive` attribute to make the chart responsive\n",
    "    + Plots will fill the container they are sitting in\n",
    "    + Plots will only resize down to a minimum of 100px (height or width) "
   ]
  },
  {
   "cell_type": "code",
   "execution_count": null,
   "metadata": {
    "ExecuteTime": {
     "end_time": "2017-01-15T22:34:05.943444",
     "start_time": "2017-01-15T22:34:05.188646"
    },
    "collapsed": false
   },
   "outputs": [],
   "source": [
    "from bokeh.plotting import figure\n",
    "\n",
    "# create a new plot\n",
    "p = figure(plot_width=700) #one can assign it directly in the plot object\n",
    "p.plot_height = 300        #or manipulate the plot object afterwards\n",
    "# p.responsive = True        #make the plot responsive\n",
    "\n",
    "p.circle([1, 2, 3, 4, 5], [2, 5, 8, 2, 7], size=10)\n",
    "\n",
    "output_file(\"bokeh_dimensions_responsive.html\")\n",
    "\n",
    "show(p)\n",
    "\n",
    "# back to notebook only\n",
    "reset_output()\n",
    "output_notebook()"
   ]
  },
  {
   "cell_type": "markdown",
   "metadata": {
    "slideshow": {
     "slide_type": "subslide"
    }
   },
   "source": [
    "**Plot Title**\n",
    "\n",
    "+ Plot title styling is controlled by the figure properties `title.text_<attribute>`.\n",
    "+ [Overview of text properties](http://bokeh.pydata.org/en/0.10.0/docs/user_guide/styling.html#text-properties)"
   ]
  },
  {
   "cell_type": "code",
   "execution_count": null,
   "metadata": {
    "ExecuteTime": {
     "end_time": "2017-01-18T01:13:52.363566",
     "start_time": "2017-01-18T01:13:52.247140"
    },
    "collapsed": false
   },
   "outputs": [],
   "source": [
    "from bokeh.plotting import figure\n",
    "\n",
    "# create a new plot with a title\n",
    "p = figure(plot_width=400, plot_height=400, title=\"Good Looking Bold Purple Title\")\n",
    "p.title.text_color = \"purple\"     #Assign color\n",
    "p.title.text_font = \"helvetica\"   #Assign font type\n",
    "p.title.text_font_style = \"bold\"  #Assign font style\n",
    "\n",
    "p.circle([1, 2, 3, 4, 5], [2, 5, 8, 2, 7], size=10)\n",
    "\n",
    "show(p)"
   ]
  },
  {
   "cell_type": "markdown",
   "metadata": {
    "slideshow": {
     "slide_type": "subslide"
    }
   },
   "source": [
    "**Further Plot Attributes**\n",
    "\n",
    "1. [Background](http://bokeh.pydata.org/en/0.11.0/docs/user_guide/styling.html#background)\n",
    "    + Control the background color\n",
    "2. [Borders](http://bokeh.pydata.org/en/0.11.0/docs/user_guide/styling.html#border)\n",
    "    + Border color and minimum border distance\n",
    "3. [Outline](http://bokeh.pydata.org/en/0.11.0/docs/user_guide/styling.html#outline)\n",
    "    + Change outline color, alpha and thickness"
   ]
  },
  {
   "cell_type": "markdown",
   "metadata": {
    "slideshow": {
     "slide_type": "subslide"
    }
   },
   "source": [
    "**Styling Charts - Glyphs**\n",
    "\n",
    "To style a glyph:\n",
    "+ Obtain a specific `glyph`-object and then modify its properties. \n",
    "+ Or just style the Glyph while creating it."
   ]
  },
  {
   "cell_type": "code",
   "execution_count": null,
   "metadata": {
    "ExecuteTime": {
     "end_time": "2017-01-18T01:14:09.694121",
     "start_time": "2017-01-18T01:14:09.525965"
    },
    "collapsed": false
   },
   "outputs": [],
   "source": [
    "from bokeh.plotting import figure\n",
    "\n",
    "p = figure(plot_width=300, plot_height=300)\n",
    "r = p.circle([1,2,3,4,5], [2,5,8,2,7]) #obtain the GlyphRenderer\n",
    "\n",
    "glyph = r.glyph      #obtain the glyph object using the glyph function\n",
    "glyph.size = 60\n",
    "glyph.fill_alpha = 0.2\n",
    "glyph.line_color = \"firebrick\"\n",
    "glyph.line_dash = [6, 3]\n",
    "glyph.line_width = 2\n",
    "\n",
    "# This would yield the same\n",
    "# p.circle([1,2,3,4,5], [2,5,8,2,7], size=60, \n",
    "#         fill_alpha=0.2, line_color='firebrick', line_dash=[6,3], line_width=2)\n",
    "\n",
    "show(p)"
   ]
  },
  {
   "cell_type": "markdown",
   "metadata": {
    "slideshow": {
     "slide_type": "subslide"
    }
   },
   "source": [
    "**Further Objects**\n",
    "\n",
    "1. [Axis](http://bokeh.pydata.org/en/0.11.0/docs/user_guide/styling.html#axes)\n",
    "2. [Grids](http://bokeh.pydata.org/en/0.11.0/docs/user_guide/styling.html#grids)\n",
    "3. [Legends](http://bokeh.pydata.org/en/0.11.0/docs/user_guide/styling.html#legends)\n"
   ]
  },
  {
   "cell_type": "markdown",
   "metadata": {
    "slideshow": {
     "slide_type": "slide"
    }
   },
   "source": [
    "## Laying Out Multiple Plots\n",
    "Bokeh includes several layout options for arranging plots and widgets in an HTML document\n",
    "\n",
    "1. Row Layout\n",
    "2. Column Layout\n",
    "3. Grid Layout"
   ]
  },
  {
   "cell_type": "code",
   "execution_count": null,
   "metadata": {
    "ExecuteTime": {
     "end_time": "2017-01-18T01:15:53.270548",
     "start_time": "2017-01-18T01:15:53.224743"
    },
    "collapsed": false
   },
   "outputs": [],
   "source": [
    "from bokeh.layouts import gridplot, row, column\n",
    "from bokeh.plotting import figure\n",
    "\n",
    "x = list(range(11))\n",
    "y0 = x\n",
    "y1 = [10 - i for i in x]\n",
    "y2 = [abs(i - 5) for i in x]\n",
    "\n",
    "# create three new plots\n",
    "s1 = figure(width=250, plot_height=250, title=None)\n",
    "s1.circle(x, y0, size=10, color=\"navy\", alpha=0.5)\n",
    "\n",
    "s2 = figure(width=250, height=250, title=None)\n",
    "s2.triangle(x, y1, size=10, color=\"firebrick\", alpha=0.5)\n",
    "\n",
    "s3 = figure(width=250, height=250, title=None)\n",
    "s3.square(x, y2, size=10, color=\"olive\", alpha=0.5)"
   ]
  },
  {
   "cell_type": "markdown",
   "metadata": {},
   "source": [
    "**Row Layout**"
   ]
  },
  {
   "cell_type": "code",
   "execution_count": null,
   "metadata": {
    "ExecuteTime": {
     "end_time": "2017-01-18T01:16:01.816393",
     "start_time": "2017-01-18T01:16:01.694897"
    },
    "collapsed": false
   },
   "outputs": [],
   "source": [
    "p = row(s1, s2, s3)\n",
    "\n",
    "show(p)"
   ]
  },
  {
   "cell_type": "markdown",
   "metadata": {},
   "source": [
    "**Column Layout**"
   ]
  },
  {
   "cell_type": "code",
   "execution_count": null,
   "metadata": {
    "ExecuteTime": {
     "end_time": "2017-01-18T01:16:08.010509",
     "start_time": "2017-01-18T01:16:07.835806"
    },
    "collapsed": false
   },
   "outputs": [],
   "source": [
    "p = column(s1, s2, s3)\n",
    "\n",
    "show(p)"
   ]
  },
  {
   "cell_type": "markdown",
   "metadata": {
    "slideshow": {
     "slide_type": "subslide"
    }
   },
   "source": [
    "**Grid Layout**"
   ]
  },
  {
   "cell_type": "code",
   "execution_count": null,
   "metadata": {
    "ExecuteTime": {
     "end_time": "2017-01-18T01:16:16.199315",
     "start_time": "2017-01-18T01:16:16.038745"
    },
    "collapsed": false
   },
   "outputs": [],
   "source": [
    "p = gridplot([[s1, s2], [None, s3]])\n",
    "\n",
    "show(p)"
   ]
  },
  {
   "cell_type": "markdown",
   "metadata": {
    "slideshow": {
     "slide_type": "slide"
    }
   },
   "source": [
    "## Interactions: *Panning* and *Brushing*"
   ]
  },
  {
   "cell_type": "markdown",
   "metadata": {
    "slideshow": {
     "slide_type": "subslide"
    }
   },
   "source": [
    "**Linking Plots - Panning**\n",
    "\n",
    "+ To enable panning across plots we need to share range objects between figure() calls."
   ]
  },
  {
   "cell_type": "code",
   "execution_count": null,
   "metadata": {
    "ExecuteTime": {
     "end_time": "2017-01-18T01:18:07.890083",
     "start_time": "2017-01-18T01:18:07.563845"
    },
    "collapsed": false
   },
   "outputs": [],
   "source": [
    "from bokeh.plotting import figure, gridplot\n",
    "\n",
    "x = list(range(11))\n",
    "y0 = x\n",
    "y1 = [10-xx for xx in x]\n",
    "y2 = [abs(xx-5) for xx in x]\n",
    "\n",
    "# create a new plot\n",
    "s1 = figure(width=250, plot_height=250, title=None)\n",
    "s1.circle(x, y0, size=10, color=\"navy\", alpha=0.5)\n",
    "\n",
    "# create a new plot and share both ranges using y_range and x_range\n",
    "s2 = figure(width=250, height=250, x_range=s1.x_range, y_range=s1.y_range, title=None)\n",
    "s2.triangle(x, y1, size=10, color=\"firebrick\", alpha=0.5)\n",
    "\n",
    "# create a new plot and share only one range using x_range\n",
    "s3 = figure(width=250, height=250, x_range=s1.x_range, title=None)\n",
    "s3.square(x, y2, size=10, color=\"olive\", alpha=0.5)\n",
    "\n",
    "p = gridplot([[s1, s2, s3]])\n",
    "\n",
    "# show the results\n",
    "show(p)"
   ]
  },
  {
   "cell_type": "markdown",
   "metadata": {
    "slideshow": {
     "slide_type": "subslide"
    }
   },
   "source": [
    "**Linking Plots - Brushing**\n",
    "\n",
    "+ Link selections acted on one glyph sharing the same data sources\n",
    "+ Can be useful for highlighting selections across different representations"
   ]
  },
  {
   "cell_type": "code",
   "execution_count": null,
   "metadata": {
    "ExecuteTime": {
     "end_time": "2017-01-18T01:18:37.849277",
     "start_time": "2017-01-18T01:18:37.641766"
    },
    "collapsed": false
   },
   "outputs": [],
   "source": [
    "from bokeh.models import ColumnDataSource\n",
    "from bokeh.plotting import gridplot\n",
    "\n",
    "x = list(range(-20, 21))\n",
    "y0 = [abs(xx) for xx in x]\n",
    "y1 = [xx**2 for xx in x]\n",
    "\n",
    "# create a column data source for the plots to share\n",
    "source = ColumnDataSource(data=dict(keyx=x, keyy0=y0, keyy1=y1))\n",
    "\n",
    "TOOLS = \"box_select,lasso_select,help\" #define which tools to include\n",
    "\n",
    "# create a new plot and add a renderer\n",
    "left = figure(tools=TOOLS, width=300, height=300, title=None)\n",
    "left.circle('keyx', 'keyy0', source=source)\n",
    "\n",
    "# create another new plot and add a renderer\n",
    "right = figure(tools=TOOLS, width=300, height=300, title=None)\n",
    "right.circle('keyx', 'keyy1', source=source)\n",
    "\n",
    "p = gridplot([[left, right]])\n",
    "\n",
    "show(p)"
   ]
  },
  {
   "cell_type": "markdown",
   "metadata": {},
   "source": [
    "## Interactions: *Widgets*"
   ]
  },
  {
   "cell_type": "markdown",
   "metadata": {
    "slideshow": {
     "slide_type": "subslide"
    }
   },
   "source": [
    "**Adding Widgets**\n",
    "\n",
    "1. What are widgets?  \n",
    "    + Widgets are UI components based off JavaScript which can be used for user input.\n",
    "2. How can widgets be used?\n",
    "    + Use the CustomJS callback\n",
    "    + Use the bokeh-server and set up event handlers with .on_change\n",
    "3. [What form of widgets exist?](http://bokeh.pydata.org/en/0.11.0/docs/user_guide/interaction.html#adding-widgets)\n",
    "    + Button\n",
    "    + Checkbox\n",
    "    + DataTable\n",
    "    + Dropdown\n",
    "    + Multiselect\n",
    "    + Radio Button\n",
    "    + Slider\n",
    "    + ...\n"
   ]
  },
  {
   "cell_type": "markdown",
   "metadata": {
    "slideshow": {
     "slide_type": "subslide"
    }
   },
   "source": [
    "**Button/Checkbox**"
   ]
  },
  {
   "cell_type": "code",
   "execution_count": null,
   "metadata": {
    "ExecuteTime": {
     "end_time": "2017-01-18T01:21:05.347056",
     "start_time": "2017-01-18T01:21:05.209302"
    },
    "collapsed": false
   },
   "outputs": [],
   "source": [
    "from bokeh.models.widgets import Button, CheckboxGroup\n",
    "from bokeh.layouts import column\n",
    "\n",
    "# button\n",
    "button = Button(label=\"Foo\", button_type=\"success\")\n",
    "\n",
    "# checkbox\n",
    "checkbox_group = CheckboxGroup(labels=[\"Option 1\", \"Option 2\", \"Option 3\"], active=[0, 1])\n",
    "\n",
    "show(column(button, checkbox_group))"
   ]
  },
  {
   "cell_type": "markdown",
   "metadata": {},
   "source": [
    "**Panel/Tabs**"
   ]
  },
  {
   "cell_type": "code",
   "execution_count": null,
   "metadata": {
    "ExecuteTime": {
     "end_time": "2017-01-18T01:21:27.448401",
     "start_time": "2017-01-18T01:21:27.264499"
    },
    "collapsed": false
   },
   "outputs": [],
   "source": [
    "from bokeh.models.widgets import Panel, Tabs\n",
    "tab1 = Panel(child=s1, title=\"tab1\")\n",
    "tab2 = Panel(child=s2, title=\"tab2\")\n",
    "layout = Tabs(tabs=[tab1, tab2])\n",
    "\n",
    "show(layout)"
   ]
  },
  {
   "cell_type": "markdown",
   "metadata": {
    "slideshow": {
     "slide_type": "subslide"
    }
   },
   "source": [
    "## Interactions: *Callbacks*\n",
    "\n",
    "Callbacks can be specified from the Python layer that results in an action on the javascript level (without the need of the Bokeh Server)."
   ]
  },
  {
   "cell_type": "markdown",
   "metadata": {
    "slideshow": {
     "slide_type": "skip"
    }
   },
   "source": [
    "**Example: OpenURL**\n",
    "\n",
    "+ Expose an OpenURL callback object that is passed to a Tap tool\n",
    "+ Open URL action called whenever users clicks on glyph or part of glyph  "
   ]
  },
  {
   "cell_type": "code",
   "execution_count": null,
   "metadata": {
    "ExecuteTime": {
     "end_time": "2017-01-18T01:24:15.107778",
     "start_time": "2017-01-18T01:24:14.914274"
    },
    "collapsed": false
   },
   "outputs": [],
   "source": [
    "from bokeh.models import ColumnDataSource, OpenURL, TapTool\n",
    "from bokeh.plotting import figure\n",
    "\n",
    "p = figure(plot_width=400, plot_height=400,\n",
    "           tools=\"tap\", title=\"Click the Dots\") # add the tap-tool to the figure\n",
    "\n",
    "source = ColumnDataSource(data=dict(\n",
    "    x=[1, 2, 3, 4, 5],\n",
    "    y=[2, 5, 8, 2, 7],\n",
    "    color=[\"navy\", \"orange\", \"olive\", \"firebrick\", \"gold\"]\n",
    "    )) #Maps names of columns to sequences or arrays\n",
    "\n",
    "p.circle('x', 'y', color='color', \n",
    "    size=20, source=source) # adding color as a user-supplied data source\n",
    "\n",
    "url = \"http://www.colors.commutercreative.com/@color/\" #@color references the color in the datasource\n",
    "taptool = p.select(type=TapTool) #select the taptool object from the figure\n",
    "taptool.callback = OpenURL(url=url) #defining the callback of the tap tool\n",
    "\n",
    "show(p)"
   ]
  },
  {
   "cell_type": "markdown",
   "metadata": {},
   "source": [
    "\n",
    "**CustomJS**\n",
    "\n",
    "To express even more advanced callbacks that must be called on the Javascript side in order to add custom logic and interactivity when a widget is used.\n",
    "\n",
    "[check the docs](http://bokeh.pydata.org/en/0.10.0/docs/user_guide/interaction.html#customjs-for-widgets)"
   ]
  },
  {
   "cell_type": "code",
   "execution_count": null,
   "metadata": {
    "ExecuteTime": {
     "end_time": "2017-01-18T01:28:41.709271",
     "start_time": "2017-01-18T01:28:41.516173"
    },
    "collapsed": false
   },
   "outputs": [],
   "source": [
    "from bokeh.layouts import column\n",
    "from bokeh.models import CustomJS, ColumnDataSource, Slider\n",
    "from bokeh.plotting import figure\n",
    "\n",
    "x = [x*0.005 for x in range(0, 200)]\n",
    "y = x\n",
    "\n",
    "source = ColumnDataSource(data=dict(x=x, y=y))\n",
    "\n",
    "p = figure(plot_width=400, plot_height=400)\n",
    "p.line('x', 'y', source=source, line_width=3, line_alpha=0.6)\n",
    "\n",
    "callback = CustomJS(args=dict(source=source), code=\"\"\"\n",
    "        var data = source.get('data');\n",
    "        var value = cb_obj.get('value')\n",
    "        x = data['x']\n",
    "        y = data['y']\n",
    "        for (i = 0; i < x.length; i++) {\n",
    "            y[i] = Math.pow(x[i], value)}\n",
    "        source.trigger('change'); \"\"\")\n",
    "\n",
    "slider = Slider(start=0.1, end=4, value=1, step=.1, title=\"power\")\n",
    "slider.callback = callback\n",
    "\n",
    "layout = column(slider, p)\n",
    "\n",
    "show(layout)"
   ]
  },
  {
   "cell_type": "code",
   "execution_count": null,
   "metadata": {
    "collapsed": true
   },
   "outputs": [],
   "source": []
  }
 ],
 "metadata": {
  "kernelspec": {
   "display_name": "Python 3",
   "language": "python",
   "name": "python3"
  },
  "language_info": {
   "codemirror_mode": {
    "name": "ipython",
    "version": 3
   },
   "file_extension": ".py",
   "mimetype": "text/x-python",
   "name": "python",
   "nbconvert_exporter": "python",
   "pygments_lexer": "ipython3",
   "version": "3.5.1"
  },
  "toc": {
   "toc_cell": false,
   "toc_number_sections": true,
   "toc_section_display": "block",
   "toc_threshold": 6,
   "toc_window_display": false
  },
  "toc_position": {
   "height": "323px",
   "left": "760.885px",
   "right": "20px",
   "top": "185px",
   "width": "328px"
  },
  "widgets": {
   "state": {
    "22fed47115b84e00a4b7ec145f617f1c": {
     "views": [
      {
       "cell_index": 48
      }
     ]
    },
    "2c68593c081f4400b39f85b8ca8ee31c": {
     "views": []
    },
    "b445d1df7f624ac9ba049819b20fd582": {
     "views": []
    },
    "c58822ff3527401f951e1b45d155ec47": {
     "views": []
    }
   },
   "version": "1.1.2"
  }
 },
 "nbformat": 4,
 "nbformat_minor": 0
}
