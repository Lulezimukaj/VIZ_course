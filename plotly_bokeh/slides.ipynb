{
 "cells": [
  {
   "cell_type": "markdown",
   "metadata": {
    "slideshow": {
     "slide_type": "slide"
    }
   },
   "source": [
    "**Interactive Data Visualization Using Python**\n",
    "\n",
    "Berlin, April 2017, DSR 10\n",
    "\n",
    ">Jesús Martínez Blanco\n",
    "><font color=\"red\">Data Scientist, LiveIntent Inc.</font>"
   ]
  },
  {
   "cell_type": "markdown",
   "metadata": {
    "slideshow": {
     "slide_type": "slide"
    }
   },
   "source": [
    "**Outline**\n",
    "\n",
    "1. Introduction\n",
    "2. Interactive Graphics\n",
    "    + Plotly\n",
    "    + Bokeh"
   ]
  },
  {
   "cell_type": "markdown",
   "metadata": {
    "slideshow": {
     "slide_type": "slide"
    }
   },
   "source": [
    "**You'll need a Python 3.5 installation,**\n",
    "\n",
    "**and the Jupyter notebook**\n",
    "\n",
    "[Anaconda distribution](https://www.continuum.io/downloads)"
   ]
  },
  {
   "cell_type": "markdown",
   "metadata": {
    "slideshow": {
     "slide_type": "slide"
    }
   },
   "source": [
    "# Introduction\n",
    "\n",
    "**As a *data scientist*, when do I build visualizations?**"
   ]
  },
  {
   "cell_type": "markdown",
   "metadata": {
    "slideshow": {
     "slide_type": "subslide"
    }
   },
   "source": [
    "**GAPMINDER FOUNDATION**: \n",
    "\n",
    "*Swedish non-profit venture that promotes sustainable global development and achievement of the United Nations Millennium Development Goals by increased use and understanding of statistics and other information about social, economic and environmental development at local, national and global levels.*\n",
    "\n",
    "*[How Does Income Relate to Life Expectancy](http://www.gapminder.org/answers/how-does-income-relate-to-life-expectancy/)*\n",
    "(Hans Rosling)\n",
    "\n",
    "[Example](figures/bokeh_final_project.html)"
   ]
  },
  {
   "cell_type": "markdown",
   "metadata": {
    "slideshow": {
     "slide_type": "subslide"
    }
   },
   "source": [
    "<center><img src=\"figures/intvis1.jpg\" width=150%></center>"
   ]
  },
  {
   "cell_type": "markdown",
   "metadata": {
    "slideshow": {
     "slide_type": "subslide"
    }
   },
   "source": [
    "<font color=\"red\">**CLIENT BASED** visualizations</font>\n",
    "\n",
    "+ Interactivity at user's machine\n",
    "+ Depends on speed of the browser \n",
    "+ CPU intensive\n",
    "+ Storage limitations\n",
    "\n",
    "[Plot here](figures/wind_speed_dist.html)"
   ]
  },
  {
   "cell_type": "markdown",
   "metadata": {
    "slideshow": {
     "slide_type": "subslide"
    }
   },
   "source": [
    "<font color=\"red\">**SERVER BASED** visualizations</font>\n",
    "\n",
    "+ Approach:\n",
    "    + Send client-side Javascript interactions to server\n",
    "    + Server processes information\n",
    "    + Generate image on server\n",
    "    + transfer image to client and display it \n",
    "+ This implies:\n",
    "    + Computation at server\n",
    "    + Fast processing and less storage limits\n",
    "    + Bandwidth demanding\n",
    "    + Transfer time precludes some interactivity\n",
    "\n",
    "[Plot here](http://demo.bokehplots.com/apps/weather)"
   ]
  },
  {
   "cell_type": "markdown",
   "metadata": {
    "slideshow": {
     "slide_type": "subslide"
    }
   },
   "source": [
    "<center><img src=\"figures/intvis2.jpg\" width=\"150%\"></center>"
   ]
  },
  {
   "cell_type": "markdown",
   "metadata": {
    "slideshow": {
     "slide_type": "subslide"
    }
   },
   "source": [
    "<center><img src=\"figures/intvis3.jpg\" width='150%'></center>"
   ]
  },
  {
   "cell_type": "markdown",
   "metadata": {
    "slideshow": {
     "slide_type": "slide"
    }
   },
   "source": [
    "# Interactive Visualization Libraries\n",
    "\n",
    "* Plotly\n",
    "* Bokeh"
   ]
  },
  {
   "cell_type": "markdown",
   "metadata": {
    "slideshow": {
     "slide_type": "slide"
    }
   },
   "source": [
    "<span style=\"font-size:300%;\">[Plotly](https://plot.ly/feed/)</span>"
   ]
  },
  {
   "cell_type": "markdown",
   "metadata": {
    "slideshow": {
     "slide_type": "subslide"
    }
   },
   "source": [
    "+ Online GUI for interactive data visualization\n",
    "+ Integrates with *IPython* and *Jupyter*\n",
    "+ Figure Converters: *matplotlib*, *ggplot2*, and *IGOR Pro* graphs into interactive, online graphs\n",
    "+ Libraries for Python, R, MATLAB, Node.js, Julia, Arduino and a REST API\n",
    "+ **Plotly.js**: open source JavaScript library for front-end graphs and dashboards (example [here](https://github.com/chumo/Plotly_Visualization))\n",
    "+ Paid products:\n",
    "    - **Plotly *Professional*** (cloud hosting)\n",
    "    - **Plotly *Enterprise*** (on-premise installation)\n"
   ]
  },
  {
   "cell_type": "markdown",
   "metadata": {
    "slideshow": {
     "slide_type": "subslide"
    }
   },
   "source": [
    "How can you use Plotly\n",
    "1. [Online](https://plot.ly/plot)\n",
    "2. [Offline](https://plot.ly/python/offline/) using one of the before mentioned libraries\n",
    "\n",
    "    Plotly for Python - pip installable:\n",
    "\n",
    "    ```bash\n",
    "    pip install plotly\n",
    "    ```\n",
    "\n",
    "    Initialize by writing\n",
    "    ```python\n",
    "    import plotly as py\n",
    "    ```"
   ]
  },
  {
   "cell_type": "markdown",
   "metadata": {
    "slideshow": {
     "slide_type": "subslide"
    }
   },
   "source": [
    "The Plotly Syntax\n",
    "\n",
    "1. Plotly charts are described declaratively with objects from **`plotly.graph_objs`**. These objects are basically Python dictionaries and lists.\n",
    "2. All bits of information of a plotly plot are stored in a **`Figure`** object consisting of a **`Data`** object and a **`Layout`** object.\n",
    "    + **`Data`** a list storing style and data options associated with traces (a collection of data points meant to be plotted as a whole)\n",
    "    + **`Layout`** a dictionary storing information associated with the layout of the graph (axis, title, or annotations)\n",
    "    "
   ]
  },
  {
   "cell_type": "markdown",
   "metadata": {
    "slideshow": {
     "slide_type": "slide"
    }
   },
   "source": [
    "Plotly - Examples (separate notebook)"
   ]
  },
  {
   "cell_type": "markdown",
   "metadata": {
    "slideshow": {
     "slide_type": "slide"
    }
   },
   "source": [
    "<span style=\"font-size:300%;\">[Bokeh](http://bokeh.pydata.org/en/latest/)</span>"
   ]
  },
  {
   "cell_type": "markdown",
   "metadata": {
    "slideshow": {
     "slide_type": "subslide"
    }
   },
   "source": [
    "+ Python visualization library from *Continuum Analytics*\n",
    "+ Style of D3.js using *BokehJS* (“We write the JavaScript, so you don’t have to!”)\n",
    "+ High-performance interactivity over very large or streaming datasets\n",
    "+ Quickly and easily create interactive plots, dashboards, and data applications"
   ]
  },
  {
   "cell_type": "markdown",
   "metadata": {
    "slideshow": {
     "slide_type": "subslide"
    }
   },
   "source": [
    "pip installable\n",
    "```python\n",
    "pip install bokeh\n",
    "```\n",
    "or conda installable\n",
    "```python\n",
    "conda install bokeh\n",
    "```\n",
    "Initialize by writing\n",
    "```python\n",
    "import bokeh\n",
    "```"
   ]
  },
  {
   "cell_type": "markdown",
   "metadata": {
    "slideshow": {
     "slide_type": "subslide"
    }
   },
   "source": [
    "Bokeh - Glossary\n",
    "1. **Glyphs**: The basic visual building blocks of Bokeh plots, e.g. lines, rectangles, squares, wedges, patches, etc\n",
    "2. **Widgets**: User interface elements outside of a Bokeh plot such as sliders, drop down menus, buttons, etc\n",
    "3. **Application**: A Bokeh application is a rendered Bokeh document, running in a browser.\n",
    "4. **Server**: Optional component:\n",
    "    + for sharing and publishing Bokeh plots and apps\n",
    "    + for handling streaming of large data sets\n",
    "    + for enabling interactions based off of widgets and selections"
   ]
  },
  {
   "cell_type": "markdown",
   "metadata": {
    "slideshow": {
     "slide_type": "subslide"
    }
   },
   "source": [
    "**How can you use Bokeh**\n",
    "\n",
    "The most common output methods for interactive usage are:\n",
    "\n",
    "1. [output_file()](http://bokeh.pydata.org/en/latest/docs/reference/io.html#bokeh.io.output_file) \n",
    "For generating simple standalone HTML documents for Bokeh visualizations.\n",
    "2. [output_notebook()](http://bokeh.pydata.org/en/latest/docs/reference/io.html#bokeh.io.output_notebook)\n",
    "For displaying Bokeh visualizations inline in Jupyter notebook cells.\n",
    "3. [output_server()](http://bokeh.pydata.org/en/latest/docs/reference/io.html#bokeh.io.output_server) \n",
    "For installing Bokeh applications on a running Bokeh server.\n"
   ]
  },
  {
   "cell_type": "markdown",
   "metadata": {
    "slideshow": {
     "slide_type": "subslide"
    }
   },
   "source": [
    "**Bokeh Interfaces**\n",
    "\n",
    "1. **bokeh.charts** (<font color='red'>high level</font>)\n",
    "    + quick creation of statistical charts\n",
    "    + functions like `BoxPlot()` and `Histogram()`\n",
    "    \n",
    "2. **bokeh.plotting** (<font color='red'>mid level</font>)\n",
    "    + mid-level general purpose interface\n",
    "    + visual glyphs + sensible default axes, grids, and tools\n",
    "\n",
    "3. **bokeh.models** (<font color='red'>low level</font>)\n",
    "    + full control over how plots and widgets are put together and configured\n",
    "    + everything has to be done by hand"
   ]
  },
  {
   "cell_type": "markdown",
   "metadata": {
    "slideshow": {
     "slide_type": "slide"
    }
   },
   "source": [
    "Bokeh - Examples (separate notebook)"
   ]
  },
  {
   "cell_type": "markdown",
   "metadata": {
    "slideshow": {
     "slide_type": "subslide"
    }
   },
   "source": [
    "**Bokeh Server**\n",
    "\n",
    "The Bokeh server is an optional component that can be used to provide additional capabilities, such as:\n",
    "\n",
    "+ publishing Bokeh plots for wider audiences\n",
    "+ streaming data to automatically updating plots\n",
    "+ interactively visualizing very large datasets\n",
    "+ building dashboards and apps with sophisticated interactions\n"
   ]
  },
  {
   "cell_type": "markdown",
   "metadata": {
    "slideshow": {
     "slide_type": "subslide"
    }
   },
   "source": [
    "**Bokeh Server Architecture**\n",
    "\n",
    "+ 2-way communication between code and BokehJS plot \n",
    "+ Plots are published by sending them to the server\n",
    "+ Data for the plot can be updated on the server, and the client will respond and update the plot\n",
    "+ Users can interact with the plot in the browser \n",
    "+ Results of interactions can be pulled back to the original code to start further query or analysis \n",
    "\n",
    "Running Bokeh Server:  \n",
    "\n",
    "```bash\n",
    "bokeh serve\n",
    "```\n"
   ]
  },
  {
   "cell_type": "markdown",
   "metadata": {
    "slideshow": {
     "slide_type": "subslide"
    }
   },
   "source": [
    "**Bokeh Server Architecture**\n",
    "<center><img src=\"figures/bokeh_server_architecture.png\" height=\"1000\" width=\"1000\"></center>"
   ]
  },
  {
   "cell_type": "markdown",
   "metadata": {
    "slideshow": {
     "slide_type": "subslide"
    }
   },
   "source": [
    "**Bokeh Server Example**\n",
    "\n",
    "Use output_server to push the plot to the server.\n",
    "\n",
    "```python\n",
    "from bokeh.plotting import figure, show, output_server\n",
    "\n",
    "p = figure(title=\"Server Plot\")\n",
    "p.circle([1, 2, 3], [4, 5, 6])\n",
    "\n",
    "output_server(\"hover\")\n",
    "\n",
    "show(p)\n",
    "```"
   ]
  },
  {
   "cell_type": "markdown",
   "metadata": {
    "slideshow": {
     "slide_type": "subslide"
    }
   },
   "source": [
    "**Bokeh - Other Examples**\n",
    "\n",
    "1. [IMDB Data Query](https://github.com/bokeh/bokeh/tree/master/examples/app/movies)\n",
    "2. [Histograms](https://github.com/bokeh/bokeh/blob/master/examples/app/selection_histogram.py)\n",
    "3. [Weather Statistics](https://github.com/bokeh/bokeh-demos/tree/master/weather)\n"
   ]
  },
  {
   "cell_type": "markdown",
   "metadata": {
    "slideshow": {
     "slide_type": "slide"
    }
   },
   "source": [
    "# Some Useful Links\n",
    "\n",
    "1. Plotly\n",
    "    + [Plotly References](https://plot.ly/python/reference/#area)\n",
    "2. Bokeh\n",
    "    + [User Guide](http://bokeh.pydata.org/en/0.11.0/docs/user_guide.html)\n",
    "    + [Bokeh Gallery](http://bokeh.pydata.org/en/0.11.0/docs/gallery.html)\n",
    "    + [Guide to resources](https://bokeh.github.io/blog/2016/10/3/resources-overview/)\n",
    "3. pandas-highcharts\n",
    "    + A python library to create [Highcharts.js](http://www.highcharts.com/) graphics from pandas dataframes\n",
    "    + [Found in PyPI](https://pypi.python.org/pypi/pandas-highcharts/)"
   ]
  }
 ],
 "metadata": {
  "celltoolbar": "Slideshow",
  "kernelspec": {
   "display_name": "Python 3",
   "language": "python",
   "name": "python3"
  },
  "language_info": {
   "codemirror_mode": {
    "name": "ipython",
    "version": 3
   },
   "file_extension": ".py",
   "mimetype": "text/x-python",
   "name": "python",
   "nbconvert_exporter": "python",
   "pygments_lexer": "ipython3",
   "version": "3.5.1"
  },
  "toc": {
   "toc_cell": false,
   "toc_number_sections": true,
   "toc_section_display": "block",
   "toc_threshold": 6,
   "toc_window_display": false
  },
  "toc_position": {
   "height": "151px",
   "left": "760.891px",
   "right": "20px",
   "top": "185px",
   "width": "286px"
  },
  "widgets": {
   "state": {},
   "version": "1.1.2"
  }
 },
 "nbformat": 4,
 "nbformat_minor": 0
}
